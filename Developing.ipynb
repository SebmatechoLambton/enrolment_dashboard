{
 "cells": [
  {
   "cell_type": "code",
   "execution_count": 1,
   "id": "b6ce3c1b",
   "metadata": {
    "ExecuteTime": {
     "end_time": "2023-12-07T15:43:35.235395Z",
     "start_time": "2023-12-07T15:43:35.222952Z"
    }
   },
   "outputs": [],
   "source": [
    "import sys\n",
    "sys.path.append('C:\\\\Users\\\\c0846720\\\\OneDrive - Lambton College\\\\Documents')\n",
    "    \n",
    "import python_utils\n",
    "import pandas as pd \n",
    "import numpy as np\n",
    "import datetime as dt\n",
    "import pyodbc\n",
    "from tqdm import tqdm\n",
    "from typing import List\n",
    "from pathlib import Path\n",
    "from io import StringIO\n",
    "from matplotlib import pyplot as plt\n",
    "import seaborn as sns"
   ]
  },
  {
   "cell_type": "code",
   "execution_count": 2,
   "id": "54f24cd2",
   "metadata": {
    "ExecuteTime": {
     "end_time": "2023-12-07T15:43:35.372411Z",
     "start_time": "2023-12-07T15:43:35.365426Z"
    }
   },
   "outputs": [
    {
     "name": "stderr",
     "output_type": "stream",
     "text": [
      "Importing plotly failed. Interactive plots will not work.\n",
      "11:09:24 - cmdstanpy - INFO - Add C++ toolchain to $PATH: C:\\Users\\c0846720\\.cmdstan\\RTools40\n"
     ]
    },
    {
     "name": "stdout",
     "output_type": "stream",
     "text": [
      "CmdStan install directory: C:\\Users\\c0846720\\.cmdstan\n",
      "CmdStan version 2.34.1 already installed\n",
      "Test model compilation\n"
     ]
    }
   ],
   "source": [
    "from enrolment_utils import queries_as_of, data_manipulation_as_of, custom_sharepoint, OCAS_data, data_manipulation_historical\n",
    "from enrolment_utils import probs_target_utils, side_files_handling, apps_confs_progression, global_params\n",
    "from enrolment_utils import data_manipulation_as_of"
   ]
  },
  {
   "cell_type": "code",
   "execution_count": 245,
   "id": "5b236eea-e434-4f98-ba1f-a7b1a66997ba",
   "metadata": {},
   "outputs": [
    {
     "name": "stdout",
     "output_type": "stream",
     "text": [
      "[Info] Connection built successfully. Server: CISSQL-live01, database: production. Created on 2024-01-22 at 10:25:57\n"
     ]
    },
    {
     "data": {
      "text/html": [
       "<div>\n",
       "<style scoped>\n",
       "    .dataframe tbody tr th:only-of-type {\n",
       "        vertical-align: middle;\n",
       "    }\n",
       "\n",
       "    .dataframe tbody tr th {\n",
       "        vertical-align: top;\n",
       "    }\n",
       "\n",
       "    .dataframe thead th {\n",
       "        text-align: right;\n",
       "    }\n",
       "</style>\n",
       "<table border=\"1\" class=\"dataframe\">\n",
       "  <thead>\n",
       "    <tr style=\"text-align: right;\">\n",
       "      <th></th>\n",
       "      <th>ds</th>\n",
       "      <th>y</th>\n",
       "      <th>term</th>\n",
       "    </tr>\n",
       "  </thead>\n",
       "  <tbody>\n",
       "    <tr>\n",
       "      <th>0</th>\n",
       "      <td>2023-01-03</td>\n",
       "      <td>6</td>\n",
       "      <td>2023F</td>\n",
       "    </tr>\n",
       "  </tbody>\n",
       "</table>\n",
       "</div>"
      ],
      "text/plain": [
       "           ds  y   term\n",
       "0  2023-01-03  6  2023F"
      ]
     },
     "execution_count": 245,
     "metadata": {},
     "output_type": "execute_result"
    }
   ],
   "source": [
    "cnxn = python_utils.get_connection()\n",
    "apps_confs_progression.retrieving_confs_program_per_term_per_date(term = '2023F', \n",
    "\t\t\t\t\t\t\t\t\t\t\t\t\tdate = '2023-01-03', \n",
    "\t\t\t\t\t\t\t\t\t\t\t\t\tprogram = 'CDAS', \n",
    "\t\t\t\t\t\t\t\t\t\t\t\t\tcnxn = cnxn )"
   ]
  },
  {
   "cell_type": "code",
   "execution_count": 77,
   "id": "9ccb5b96",
   "metadata": {
    "ExecuteTime": {
     "end_time": "2023-12-07T15:43:47.697771Z",
     "start_time": "2023-12-07T15:43:35.513555Z"
    },
    "scrolled": true
   },
   "outputs": [
    {
     "name": "stdout",
     "output_type": "stream",
     "text": [
      "[Info] Connection built successfully. Server: CISSQL-live01, database: production. Created on 2023-12-07 at 10:43:35\n"
     ]
    }
   ],
   "source": [
    "cnxn = python_utils.get_connection()\n",
    "\n",
    "df_map = data_manipulation_as_of.MapInfo(terms = ['2020F','2021F','2022F','2023F','2024F'], cnxn = cnxn )\n",
    "\n",
    "def MapInfoQuery(cnxn):\n",
    "\n",
    "    \n",
    "    query = \"\"\"\n",
    "\n",
    "SELECT \n",
    "\t--APPL_APPLICANT AS Applicant_ID\n",
    "\tBIRTH_DATE as birth_date\n",
    "\t,GENDER as gender\n",
    "\t,CASE \n",
    "\t\tWHEN IMMIGRATION_STATUS = 'NA'\n",
    "\t\t\tTHEN 'NatAme'\n",
    "\t\tELSE 'NotNatAme'\n",
    "\t\tEND AS indigenous_statius\n",
    "\t,CITY\n",
    "\t,ADDRESS.ZIP AS postal_code\n",
    "\t,APPL_ACAD_PROGRAM AS program\n",
    "\t--,APPL_STATUS AS Curr_Status\n",
    "\t,APPL_CHOICE AS program_choice\n",
    "    ,APPL_START_TERM as term \n",
    "FROM APPLICATIONS AA\n",
    "JOIN APPL_STATUSES BB ON AA.APPLICATIONS_ID = BB.APPLICATIONS_ID\n",
    "\tAND POS = (\n",
    "\t\tSELECT TOP 1 POS\n",
    "\t\tFROM APPL_STATUSES\n",
    "\t\tWHERE APPLICATIONS_ID = AA.APPLICATIONS_ID)\n",
    "JOIN PERSON P ON APPL_APPLICANT = P.ID\n",
    "JOIN ADDRESS ON ADDRESS_ID = PREFERRED_ADDRESS\n",
    "WHERE APPL_START_TERM IN ('2020F','2021F','2022F','2023F','2024F')\n",
    "ORDER BY APPL_APPLICANT\n",
    "\t,APPL_ACAD_PROGRAM\n",
    "    \"\"\"\n",
    "    query = pd.read_sql(query, cnxn)\n",
    "    return(query)\n",
    "\n",
    "dataset = MapInfoQuery(cnxn = cnxn )\n",
    "\n",
    "dataset = MapInfoQuery(cnxn = cnxn )\n",
    "dataset['birth_date'] = pd.to_datetime(dataset['birth_date'])\n",
    "\n",
    "from datetime import datetime\n",
    "\n",
    "\n",
    "# Function to calculate age on September 1st of the year in the term\n",
    "def calculate_age_on_sep_first(row):\n",
    "    # Extract the year from the term (assuming the format is \"YYYYF\" or \"YYYYS\")\n",
    "    year = int(row['term'][:4])\n",
    "    # Create a datetime object for September 1st of that year\n",
    "    sep_first = datetime(year, 9, 1)\n",
    "    # Calculate the age by subtracting the birth_date from the sep_first date and getting the days, then dividing by 365.\n",
    "    # The floor division '//' returns the full years (age).\n",
    "    age = (sep_first - row['birth_date']).days // 365\n",
    "    return age\n",
    "\n",
    "dataset['age_as_of_sep_first'] = dataset.apply(calculate_age_on_sep_first, axis=1)\n",
    "\n",
    "dataset['age_group'] = dataset['age_as_of_sep_first'].apply(lambda x:  '<18' if x<19 else \n",
    "                                                           '18-21' if (x>18)&(x<22) else\n",
    "                                                            '22-25' if (x>21)&(x<26) else\n",
    "                                                            '26-30' if (x>24)&(x<31) else\n",
    "                                                            '31-40' if (x>29)&(x<41) else\n",
    "                                                            '41-50' if (x>39)&(x<51) else '>50' )\n",
    "\n",
    "dataset['postal_code'] = dataset['postal_code'].str[:3]\n",
    "\n",
    "dataset = dataset.drop('birth_date', axis = 1)\n",
    "\n",
    "dataset.to_excel('demographics_report.xlsx', index = False)"
   ]
  },
  {
   "cell_type": "code",
   "execution_count": null,
   "id": "5d3a6c30",
   "metadata": {},
   "outputs": [],
   "source": []
  },
  {
   "cell_type": "code",
   "execution_count": 230,
   "id": "44121d08",
   "metadata": {
    "ExecuteTime": {
     "end_time": "2023-11-29T17:12:05.746294Z",
     "start_time": "2023-11-29T17:12:04.165182Z"
    }
   },
   "outputs": [],
   "source": [
    "# Importing auxiliary files (order and order end of cycle)\n",
    "sharepoint_base_url = 'https://mylambton.sharepoint.com/sites/EnrolmentDashboard'\n",
    "\n",
    "order = custom_sharepoint.sharepoint_download(sharepoint_base_url = sharepoint_base_url,\n",
    "                                              local_folder = 'orders',\n",
    "                                              file_name = 'order_winter.txt')\n",
    "\n",
    "# terms = ['2020W','2021W','2022W','2023W', '2024W']\n",
    "terms = ['2020S','2021S','2022S','2023S', '2024S']\n",
    "# terms = ['2020F','2021F','2022F','2023F','2024F']"
   ]
  },
  {
   "cell_type": "code",
   "execution_count": 29,
   "id": "ca6e2b86",
   "metadata": {
    "ExecuteTime": {
     "end_time": "2023-10-23T14:05:06.731794Z",
     "start_time": "2023-10-23T14:05:00.559455Z"
    }
   },
   "outputs": [
    {
     "data": {
      "text/html": [
       "<div>\n",
       "<style scoped>\n",
       "    .dataframe tbody tr th:only-of-type {\n",
       "        vertical-align: middle;\n",
       "    }\n",
       "\n",
       "    .dataframe tbody tr th {\n",
       "        vertical-align: top;\n",
       "    }\n",
       "\n",
       "    .dataframe thead th {\n",
       "        text-align: right;\n",
       "    }\n",
       "</style>\n",
       "<table border=\"1\" class=\"dataframe\">\n",
       "  <thead>\n",
       "    <tr style=\"text-align: right;\">\n",
       "      <th>4</th>\n",
       "      <th>college_name</th>\n",
       "      <th>mtcu_code_and_title</th>\n",
       "      <th>college_catchment</th>\n",
       "      <th>application_2022</th>\n",
       "      <th>application_2023</th>\n",
       "      <th>application_2024</th>\n",
       "    </tr>\n",
       "  </thead>\n",
       "  <tbody>\n",
       "    <tr>\n",
       "      <th>1</th>\n",
       "      <td>Algonquin</td>\n",
       "      <td>0 - Unknown</td>\n",
       "      <td>Algonquin</td>\n",
       "      <td>0</td>\n",
       "      <td>2</td>\n",
       "      <td>2</td>\n",
       "    </tr>\n",
       "    <tr>\n",
       "      <th>2</th>\n",
       "      <td>Algonquin</td>\n",
       "      <td>0 - Unknown</td>\n",
       "      <td>Canadore</td>\n",
       "      <td>0</td>\n",
       "      <td>0</td>\n",
       "      <td>1</td>\n",
       "    </tr>\n",
       "    <tr>\n",
       "      <th>3</th>\n",
       "      <td>Algonquin</td>\n",
       "      <td>0 - Unknown</td>\n",
       "      <td>Centennial</td>\n",
       "      <td>0</td>\n",
       "      <td>0</td>\n",
       "      <td>1</td>\n",
       "    </tr>\n",
       "    <tr>\n",
       "      <th>4</th>\n",
       "      <td>Algonquin</td>\n",
       "      <td>0 - Unknown</td>\n",
       "      <td>Conestoga</td>\n",
       "      <td>0</td>\n",
       "      <td>0</td>\n",
       "      <td>0</td>\n",
       "    </tr>\n",
       "    <tr>\n",
       "      <th>5</th>\n",
       "      <td>Algonquin</td>\n",
       "      <td>0 - Unknown</td>\n",
       "      <td>Durham</td>\n",
       "      <td>0</td>\n",
       "      <td>0</td>\n",
       "      <td>0</td>\n",
       "    </tr>\n",
       "    <tr>\n",
       "      <th>...</th>\n",
       "      <td>...</td>\n",
       "      <td>...</td>\n",
       "      <td>...</td>\n",
       "      <td>...</td>\n",
       "      <td>...</td>\n",
       "      <td>...</td>\n",
       "    </tr>\n",
       "    <tr>\n",
       "      <th>23169</th>\n",
       "      <td>St. Lawrence</td>\n",
       "      <td>81401 - Honours Bachelor Of Science - Nursing</td>\n",
       "      <td>Sheridan</td>\n",
       "      <td>2</td>\n",
       "      <td>0</td>\n",
       "      <td>1</td>\n",
       "    </tr>\n",
       "    <tr>\n",
       "      <th>23170</th>\n",
       "      <td>St. Lawrence</td>\n",
       "      <td>81401 - Honours Bachelor Of Science - Nursing</td>\n",
       "      <td>St. Lawrence</td>\n",
       "      <td>44</td>\n",
       "      <td>46</td>\n",
       "      <td>39</td>\n",
       "    </tr>\n",
       "    <tr>\n",
       "      <th>23171</th>\n",
       "      <td>St. Lawrence</td>\n",
       "      <td>81401 - Honours Bachelor Of Science - Nursing</td>\n",
       "      <td>Fleming</td>\n",
       "      <td>0</td>\n",
       "      <td>0</td>\n",
       "      <td>0</td>\n",
       "    </tr>\n",
       "    <tr>\n",
       "      <th>23172</th>\n",
       "      <td>St. Lawrence</td>\n",
       "      <td>81401 - Honours Bachelor Of Science - Nursing</td>\n",
       "      <td>St. Clair</td>\n",
       "      <td>3</td>\n",
       "      <td>0</td>\n",
       "      <td>1</td>\n",
       "    </tr>\n",
       "    <tr>\n",
       "      <th>23173</th>\n",
       "      <td>St. Lawrence</td>\n",
       "      <td>81401 - Honours Bachelor Of Science - Nursing</td>\n",
       "      <td>Unknown</td>\n",
       "      <td>3</td>\n",
       "      <td>3</td>\n",
       "      <td>3</td>\n",
       "    </tr>\n",
       "  </tbody>\n",
       "</table>\n",
       "<p>23173 rows × 6 columns</p>\n",
       "</div>"
      ],
      "text/plain": [
       "4      college_name                            mtcu_code_and_title  \\\n",
       "1         Algonquin                                    0 - Unknown   \n",
       "2         Algonquin                                    0 - Unknown   \n",
       "3         Algonquin                                    0 - Unknown   \n",
       "4         Algonquin                                    0 - Unknown   \n",
       "5         Algonquin                                    0 - Unknown   \n",
       "...             ...                                            ...   \n",
       "23169  St. Lawrence  81401 - Honours Bachelor Of Science - Nursing   \n",
       "23170  St. Lawrence  81401 - Honours Bachelor Of Science - Nursing   \n",
       "23171  St. Lawrence  81401 - Honours Bachelor Of Science - Nursing   \n",
       "23172  St. Lawrence  81401 - Honours Bachelor Of Science - Nursing   \n",
       "23173  St. Lawrence  81401 - Honours Bachelor Of Science - Nursing   \n",
       "\n",
       "4     college_catchment  application_2022  application_2023  application_2024  \n",
       "1             Algonquin                 0                 2                 2  \n",
       "2              Canadore                 0                 0                 1  \n",
       "3            Centennial                 0                 0                 1  \n",
       "4             Conestoga                 0                 0                 0  \n",
       "5                Durham                 0                 0                 0  \n",
       "...                 ...               ...               ...               ...  \n",
       "23169          Sheridan                 2                 0                 1  \n",
       "23170      St. Lawrence                44                46                39  \n",
       "23171           Fleming                 0                 0                 0  \n",
       "23172         St. Clair                 3                 0                 1  \n",
       "23173           Unknown                 3                 3                 3  \n",
       "\n",
       "[23173 rows x 6 columns]"
      ]
     },
     "execution_count": 29,
     "metadata": {},
     "output_type": "execute_result"
    }
   ],
   "source": [
    "## OCAS province comparison \n",
    "dataset = OCAS_data.sharepoint_download_excel_OCAS( sharepoint_base_url = sharepoint_base_url,\n",
    "                                                            report_name = 'province_report_fall.xlsx' )\n",
    "\n",
    "dataset = OCAS_data.OCAS_enrolment_report_province(dataset = dataset)\n",
    "\n",
    "# OCAS_data.OCAS_enrolment_report_province_format(dataset = dataset, terms = terms)\n",
    "dataset"
   ]
  },
  {
   "cell_type": "code",
   "execution_count": 30,
   "id": "a0e58da2",
   "metadata": {
    "ExecuteTime": {
     "end_time": "2023-10-23T14:05:06.909638Z",
     "start_time": "2023-10-23T14:05:06.888317Z"
    }
   },
   "outputs": [
    {
     "data": {
      "text/plain": [
       "315"
      ]
     },
     "execution_count": 30,
     "metadata": {},
     "output_type": "execute_result"
    }
   ],
   "source": [
    "dataset[dataset['college_name'] == 'Lambton']['application_2024'].sum()"
   ]
  },
  {
   "cell_type": "code",
   "execution_count": 3,
   "id": "ddd5bc63",
   "metadata": {
    "ExecuteTime": {
     "end_time": "2023-10-23T14:11:20.003968Z",
     "start_time": "2023-10-23T14:11:06.930684Z"
    }
   },
   "outputs": [],
   "source": [
    "df_apps = apps_confs_progression.compiling_historical_college(terms = ['2020F','2021F','2022F','2023F','2024F'],\n",
    "                             folder ='applications')\n"
   ]
  },
  {
   "cell_type": "code",
   "execution_count": 5,
   "id": "b12cc8f2",
   "metadata": {
    "ExecuteTime": {
     "end_time": "2023-11-06T16:50:36.439477Z",
     "start_time": "2023-11-06T16:50:32.699529Z"
    }
   },
   "outputs": [],
   "source": [
    "df = probs_target_utils.program_full_data(program = 'CPET', \n",
    "                                  start_year = '2019', \n",
    "                                  end_year = '2023',\n",
    "                                  term = '2024F',\n",
    "                                  cnxn = cnxn,\n",
    "                                  folder_name = 'registrations')"
   ]
  },
  {
   "cell_type": "code",
   "execution_count": 7,
   "id": "87db0889",
   "metadata": {
    "ExecuteTime": {
     "end_time": "2023-11-06T16:51:10.229260Z",
     "start_time": "2023-11-06T16:50:54.826638Z"
    }
   },
   "outputs": [
    {
     "data": {
      "text/plain": [
       "<AxesSubplot:xlabel='ds', ylabel='y'>"
      ]
     },
     "execution_count": 7,
     "metadata": {},
     "output_type": "execute_result"
    },
    {
     "data": {
      "image/png": "[encoded data removed]",
      "text/plain": [
       "<Figure size 432x288 with 1 Axes>"
      ]
     },
     "metadata": {
      "needs_background": "light"
     },
     "output_type": "display_data"
    }
   ],
   "source": [
    "sns.lineplot(x = 'ds', y = 'y', data = df)"
   ]
  },
  {
   "cell_type": "code",
   "execution_count": 8,
   "id": "d07c3301",
   "metadata": {
    "ExecuteTime": {
     "end_time": "2023-11-06T16:59:13.517414Z",
     "start_time": "2023-11-06T16:58:53.346474Z"
    }
   },
   "outputs": [
    {
     "name": "stderr",
     "output_type": "stream",
     "text": [
      "11:59:06 - cmdstanpy - INFO - Chain [1] start processing\n",
      "11:59:11 - cmdstanpy - INFO - Chain [1] done processing\n",
      "11:59:11 - cmdstanpy - ERROR - Chain [1] error: terminated by signal 3221225657 \n",
      "Optimization terminated abnormally. Falling back to Newton.\n",
      "11:59:11 - cmdstanpy - INFO - Chain [1] start processing\n",
      "11:59:13 - cmdstanpy - INFO - Chain [1] done processing\n",
      "11:59:13 - cmdstanpy - ERROR - Chain [1] error: terminated by signal 3221225657 \n"
     ]
    },
    {
     "ename": "RuntimeError",
     "evalue": "Error during optimization: ",
     "output_type": "error",
     "traceback": [
      "\u001b[1;31m---------------------------------------------------------------------------\u001b[0m",
      "\u001b[1;31mRuntimeError\u001b[0m                              Traceback (most recent call last)",
      "\u001b[1;32mC:\\ProgramData\\Anaconda3\\lib\\site-packages\\prophet\\models.py\u001b[0m in \u001b[0;36mfit\u001b[1;34m(self, stan_init, stan_data, **kwargs)\u001b[0m\n\u001b[0;32m     89\u001b[0m         \u001b[1;32mtry\u001b[0m\u001b[1;33m:\u001b[0m\u001b[1;33m\u001b[0m\u001b[1;33m\u001b[0m\u001b[0m\n\u001b[1;32m---> 90\u001b[1;33m             \u001b[0mself\u001b[0m\u001b[1;33m.\u001b[0m\u001b[0mstan_fit\u001b[0m \u001b[1;33m=\u001b[0m \u001b[0mself\u001b[0m\u001b[1;33m.\u001b[0m\u001b[0mmodel\u001b[0m\u001b[1;33m.\u001b[0m\u001b[0moptimize\u001b[0m\u001b[1;33m(\u001b[0m\u001b[1;33m**\u001b[0m\u001b[0margs\u001b[0m\u001b[1;33m)\u001b[0m\u001b[1;33m\u001b[0m\u001b[1;33m\u001b[0m\u001b[0m\n\u001b[0m\u001b[0;32m     91\u001b[0m         \u001b[1;32mexcept\u001b[0m \u001b[0mRuntimeError\u001b[0m \u001b[1;32mas\u001b[0m \u001b[0me\u001b[0m\u001b[1;33m:\u001b[0m\u001b[1;33m\u001b[0m\u001b[1;33m\u001b[0m\u001b[0m\n",
      "\u001b[1;32m~\\AppData\\Roaming\\Python\\Python38\\site-packages\\cmdstanpy\\model.py\u001b[0m in \u001b[0;36moptimize\u001b[1;34m(self, data, seed, inits, output_dir, sig_figs, save_profile, algorithm, init_alpha, tol_obj, tol_rel_obj, tol_grad, tol_rel_grad, tol_param, history_size, iter, save_iterations, require_converged, show_console, refresh, time_fmt)\u001b[0m\n\u001b[0;32m    730\u001b[0m             \u001b[1;32melse\u001b[0m\u001b[1;33m:\u001b[0m\u001b[1;33m\u001b[0m\u001b[1;33m\u001b[0m\u001b[0m\n\u001b[1;32m--> 731\u001b[1;33m                 \u001b[1;32mraise\u001b[0m \u001b[0mRuntimeError\u001b[0m\u001b[1;33m(\u001b[0m\u001b[0mmsg\u001b[0m\u001b[1;33m)\u001b[0m\u001b[1;33m\u001b[0m\u001b[1;33m\u001b[0m\u001b[0m\n\u001b[0m\u001b[0;32m    732\u001b[0m         \u001b[0mmle\u001b[0m \u001b[1;33m=\u001b[0m \u001b[0mCmdStanMLE\u001b[0m\u001b[1;33m(\u001b[0m\u001b[0mrunset\u001b[0m\u001b[1;33m)\u001b[0m\u001b[1;33m\u001b[0m\u001b[1;33m\u001b[0m\u001b[0m\n",
      "\u001b[1;31mRuntimeError\u001b[0m: Error during optimization: ",
      "\nDuring handling of the above exception, another exception occurred:\n",
      "\u001b[1;31mRuntimeError\u001b[0m                              Traceback (most recent call last)",
      "\u001b[1;32m<ipython-input-8-b40171a64e05>\u001b[0m in \u001b[0;36m<module>\u001b[1;34m\u001b[0m\n\u001b[1;32m----> 1\u001b[1;33m probs_target_utils.getting_target_probabilities_program(program = 'CPET', \n\u001b[0m\u001b[0;32m      2\u001b[0m                                   \u001b[0mstart_year\u001b[0m \u001b[1;33m=\u001b[0m \u001b[1;34m'2019'\u001b[0m\u001b[1;33m,\u001b[0m\u001b[1;33m\u001b[0m\u001b[1;33m\u001b[0m\u001b[0m\n\u001b[0;32m      3\u001b[0m                                   \u001b[0mend_year\u001b[0m \u001b[1;33m=\u001b[0m \u001b[1;34m'2023'\u001b[0m\u001b[1;33m,\u001b[0m\u001b[1;33m\u001b[0m\u001b[1;33m\u001b[0m\u001b[0m\n\u001b[0;32m      4\u001b[0m                                   \u001b[0mterm\u001b[0m \u001b[1;33m=\u001b[0m \u001b[1;34m'2024F'\u001b[0m\u001b[1;33m,\u001b[0m\u001b[1;33m\u001b[0m\u001b[1;33m\u001b[0m\u001b[0m\n\u001b[0;32m      5\u001b[0m                                   \u001b[0mcnxn\u001b[0m \u001b[1;33m=\u001b[0m \u001b[0mcnxn\u001b[0m\u001b[1;33m,\u001b[0m\u001b[1;33m\u001b[0m\u001b[1;33m\u001b[0m\u001b[0m\n",
      "\u001b[1;32m~\\Desktop\\EnrolmentReport\\utils\\probs_target_utils.py\u001b[0m in \u001b[0;36mgetting_target_probabilities_program\u001b[1;34m(program, start_year, end_year, term, file_name_budget, cnxn)\u001b[0m\n\u001b[0;32m    199\u001b[0m \u001b[1;33m\u001b[0m\u001b[0m\n\u001b[0;32m    200\u001b[0m     \u001b[0mmodel\u001b[0m \u001b[1;33m=\u001b[0m \u001b[0mProphet\u001b[0m\u001b[1;33m(\u001b[0m\u001b[1;33m)\u001b[0m \u001b[1;31m# Thanks facebook!\u001b[0m\u001b[1;33m\u001b[0m\u001b[1;33m\u001b[0m\u001b[0m\n\u001b[1;32m--> 201\u001b[1;33m     \u001b[0mmodel\u001b[0m\u001b[1;33m.\u001b[0m\u001b[0mfit\u001b[0m\u001b[1;33m(\u001b[0m\u001b[0mdataframe\u001b[0m\u001b[1;33m)\u001b[0m\u001b[1;33m\u001b[0m\u001b[1;33m\u001b[0m\u001b[0m\n\u001b[0m\u001b[0;32m    202\u001b[0m \u001b[1;33m\u001b[0m\u001b[0m\n\u001b[0;32m    203\u001b[0m     \u001b[1;31m# Counting number of days to reach end of cycle\u001b[0m\u001b[1;33m\u001b[0m\u001b[1;33m\u001b[0m\u001b[1;33m\u001b[0m\u001b[0m\n",
      "\u001b[1;32mC:\\ProgramData\\Anaconda3\\lib\\site-packages\\prophet\\forecaster.py\u001b[0m in \u001b[0;36mfit\u001b[1;34m(self, df, **kwargs)\u001b[0m\n\u001b[0;32m   1179\u001b[0m             \u001b[0mself\u001b[0m\u001b[1;33m.\u001b[0m\u001b[0mparams\u001b[0m \u001b[1;33m=\u001b[0m \u001b[0mself\u001b[0m\u001b[1;33m.\u001b[0m\u001b[0mstan_backend\u001b[0m\u001b[1;33m.\u001b[0m\u001b[0msampling\u001b[0m\u001b[1;33m(\u001b[0m\u001b[0mstan_init\u001b[0m\u001b[1;33m,\u001b[0m \u001b[0mdat\u001b[0m\u001b[1;33m,\u001b[0m \u001b[0mself\u001b[0m\u001b[1;33m.\u001b[0m\u001b[0mmcmc_samples\u001b[0m\u001b[1;33m,\u001b[0m \u001b[1;33m**\u001b[0m\u001b[0mkwargs\u001b[0m\u001b[1;33m)\u001b[0m\u001b[1;33m\u001b[0m\u001b[1;33m\u001b[0m\u001b[0m\n\u001b[0;32m   1180\u001b[0m         \u001b[1;32melse\u001b[0m\u001b[1;33m:\u001b[0m\u001b[1;33m\u001b[0m\u001b[1;33m\u001b[0m\u001b[0m\n\u001b[1;32m-> 1181\u001b[1;33m             \u001b[0mself\u001b[0m\u001b[1;33m.\u001b[0m\u001b[0mparams\u001b[0m \u001b[1;33m=\u001b[0m \u001b[0mself\u001b[0m\u001b[1;33m.\u001b[0m\u001b[0mstan_backend\u001b[0m\u001b[1;33m.\u001b[0m\u001b[0mfit\u001b[0m\u001b[1;33m(\u001b[0m\u001b[0mstan_init\u001b[0m\u001b[1;33m,\u001b[0m \u001b[0mdat\u001b[0m\u001b[1;33m,\u001b[0m \u001b[1;33m**\u001b[0m\u001b[0mkwargs\u001b[0m\u001b[1;33m)\u001b[0m\u001b[1;33m\u001b[0m\u001b[1;33m\u001b[0m\u001b[0m\n\u001b[0m\u001b[0;32m   1182\u001b[0m \u001b[1;33m\u001b[0m\u001b[0m\n\u001b[0;32m   1183\u001b[0m         \u001b[0mself\u001b[0m\u001b[1;33m.\u001b[0m\u001b[0mstan_fit\u001b[0m \u001b[1;33m=\u001b[0m \u001b[0mself\u001b[0m\u001b[1;33m.\u001b[0m\u001b[0mstan_backend\u001b[0m\u001b[1;33m.\u001b[0m\u001b[0mstan_fit\u001b[0m\u001b[1;33m\u001b[0m\u001b[1;33m\u001b[0m\u001b[0m\n",
      "\u001b[1;32mC:\\ProgramData\\Anaconda3\\lib\\site-packages\\prophet\\models.py\u001b[0m in \u001b[0;36mfit\u001b[1;34m(self, stan_init, stan_data, **kwargs)\u001b[0m\n\u001b[0;32m     95\u001b[0m             \u001b[0mlogger\u001b[0m\u001b[1;33m.\u001b[0m\u001b[0mwarning\u001b[0m\u001b[1;33m(\u001b[0m\u001b[1;34m'Optimization terminated abnormally. Falling back to Newton.'\u001b[0m\u001b[1;33m)\u001b[0m\u001b[1;33m\u001b[0m\u001b[1;33m\u001b[0m\u001b[0m\n\u001b[0;32m     96\u001b[0m             \u001b[0margs\u001b[0m\u001b[1;33m[\u001b[0m\u001b[1;34m'algorithm'\u001b[0m\u001b[1;33m]\u001b[0m \u001b[1;33m=\u001b[0m \u001b[1;34m'Newton'\u001b[0m\u001b[1;33m\u001b[0m\u001b[1;33m\u001b[0m\u001b[0m\n\u001b[1;32m---> 97\u001b[1;33m             \u001b[0mself\u001b[0m\u001b[1;33m.\u001b[0m\u001b[0mstan_fit\u001b[0m \u001b[1;33m=\u001b[0m \u001b[0mself\u001b[0m\u001b[1;33m.\u001b[0m\u001b[0mmodel\u001b[0m\u001b[1;33m.\u001b[0m\u001b[0moptimize\u001b[0m\u001b[1;33m(\u001b[0m\u001b[1;33m**\u001b[0m\u001b[0margs\u001b[0m\u001b[1;33m)\u001b[0m\u001b[1;33m\u001b[0m\u001b[1;33m\u001b[0m\u001b[0m\n\u001b[0m\u001b[0;32m     98\u001b[0m         params = self.stan_to_dict_numpy(\n\u001b[0;32m     99\u001b[0m             self.stan_fit.column_names, self.stan_fit.optimized_params_np)\n",
      "\u001b[1;32m~\\AppData\\Roaming\\Python\\Python38\\site-packages\\cmdstanpy\\model.py\u001b[0m in \u001b[0;36moptimize\u001b[1;34m(self, data, seed, inits, output_dir, sig_figs, save_profile, algorithm, init_alpha, tol_obj, tol_rel_obj, tol_grad, tol_rel_grad, tol_param, history_size, iter, save_iterations, require_converged, show_console, refresh, time_fmt)\u001b[0m\n\u001b[0;32m    729\u001b[0m                 \u001b[0mget_logger\u001b[0m\u001b[1;33m(\u001b[0m\u001b[1;33m)\u001b[0m\u001b[1;33m.\u001b[0m\u001b[0mwarning\u001b[0m\u001b[1;33m(\u001b[0m\u001b[0mmsg\u001b[0m\u001b[1;33m)\u001b[0m\u001b[1;33m\u001b[0m\u001b[1;33m\u001b[0m\u001b[0m\n\u001b[0;32m    730\u001b[0m             \u001b[1;32melse\u001b[0m\u001b[1;33m:\u001b[0m\u001b[1;33m\u001b[0m\u001b[1;33m\u001b[0m\u001b[0m\n\u001b[1;32m--> 731\u001b[1;33m                 \u001b[1;32mraise\u001b[0m \u001b[0mRuntimeError\u001b[0m\u001b[1;33m(\u001b[0m\u001b[0mmsg\u001b[0m\u001b[1;33m)\u001b[0m\u001b[1;33m\u001b[0m\u001b[1;33m\u001b[0m\u001b[0m\n\u001b[0m\u001b[0;32m    732\u001b[0m         \u001b[0mmle\u001b[0m \u001b[1;33m=\u001b[0m \u001b[0mCmdStanMLE\u001b[0m\u001b[1;33m(\u001b[0m\u001b[0mrunset\u001b[0m\u001b[1;33m)\u001b[0m\u001b[1;33m\u001b[0m\u001b[1;33m\u001b[0m\u001b[0m\n\u001b[0;32m    733\u001b[0m         \u001b[1;32mreturn\u001b[0m \u001b[0mmle\u001b[0m\u001b[1;33m\u001b[0m\u001b[1;33m\u001b[0m\u001b[0m\n",
      "\u001b[1;31mRuntimeError\u001b[0m: Error during optimization: "
     ]
    }
   ],
   "source": [
    "probs_target_utils.getting_target_probabilities_program(program = 'CPET', \n",
    "                                  start_year = '2019', \n",
    "                                  end_year = '2023',\n",
    "                                  term = '2024F',\n",
    "                                  cnxn = cnxn,\n",
    "                                  file_name_budget = 'budget_fall.txt')"
   ]
  },
  {
   "cell_type": "code",
   "execution_count": 30,
   "id": "e1068f38",
   "metadata": {
    "ExecuteTime": {
     "end_time": "2023-11-16T14:49:12.707684Z",
     "start_time": "2023-11-16T14:49:09.483871Z"
    }
   },
   "outputs": [
    {
     "data": {
      "text/html": [
       "<div>\n",
       "<style scoped>\n",
       "    .dataframe tbody tr th:only-of-type {\n",
       "        vertical-align: middle;\n",
       "    }\n",
       "\n",
       "    .dataframe tbody tr th {\n",
       "        vertical-align: top;\n",
       "    }\n",
       "\n",
       "    .dataframe thead th {\n",
       "        text-align: right;\n",
       "    }\n",
       "</style>\n",
       "<table border=\"1\" class=\"dataframe\">\n",
       "  <thead>\n",
       "    <tr style=\"text-align: right;\">\n",
       "      <th></th>\n",
       "      <th>Program</th>\n",
       "      <th>School</th>\n",
       "      <th>Total Registrations 2020W</th>\n",
       "      <th>Total Registrations 2021W</th>\n",
       "      <th>Total Registrations 2022W</th>\n",
       "      <th>Total Registrations 2023W</th>\n",
       "      <th>Total Registrations 2024W</th>\n",
       "    </tr>\n",
       "  </thead>\n",
       "  <tbody>\n",
       "    <tr>\n",
       "      <th>0</th>\n",
       "      <td>BMAN</td>\n",
       "      <td>Business/Liberal</td>\n",
       "      <td>101.0</td>\n",
       "      <td>75.0</td>\n",
       "      <td>154.0</td>\n",
       "      <td>165</td>\n",
       "      <td>203</td>\n",
       "    </tr>\n",
       "    <tr>\n",
       "      <th>1</th>\n",
       "      <td>BMIB</td>\n",
       "      <td>Business/Liberal</td>\n",
       "      <td>110.0</td>\n",
       "      <td>76.0</td>\n",
       "      <td>235.0</td>\n",
       "      <td>217</td>\n",
       "      <td>365</td>\n",
       "    </tr>\n",
       "    <tr>\n",
       "      <th>2</th>\n",
       "      <td>GASX</td>\n",
       "      <td>Business/Liberal</td>\n",
       "      <td>28.0</td>\n",
       "      <td>29.0</td>\n",
       "      <td>19.0</td>\n",
       "      <td>19</td>\n",
       "      <td>36</td>\n",
       "    </tr>\n",
       "    <tr>\n",
       "      <th>3</th>\n",
       "      <td>LIBI</td>\n",
       "      <td>Business/Liberal</td>\n",
       "      <td>0.0</td>\n",
       "      <td>0.0</td>\n",
       "      <td>0.0</td>\n",
       "      <td>3</td>\n",
       "      <td>8</td>\n",
       "    </tr>\n",
       "    <tr>\n",
       "      <th>4</th>\n",
       "      <td>LIBS</td>\n",
       "      <td>Business/Liberal</td>\n",
       "      <td>18.0</td>\n",
       "      <td>14.0</td>\n",
       "      <td>15.0</td>\n",
       "      <td>10</td>\n",
       "      <td>8</td>\n",
       "    </tr>\n",
       "    <tr>\n",
       "      <th>5</th>\n",
       "      <td>PARA</td>\n",
       "      <td>Fire / Health / Community</td>\n",
       "      <td>85.0</td>\n",
       "      <td>96.0</td>\n",
       "      <td>88.0</td>\n",
       "      <td>106</td>\n",
       "      <td>101</td>\n",
       "    </tr>\n",
       "    <tr>\n",
       "      <th>6</th>\n",
       "      <td>PHRM</td>\n",
       "      <td>Fire / Health / Community</td>\n",
       "      <td>74.0</td>\n",
       "      <td>56.0</td>\n",
       "      <td>93.0</td>\n",
       "      <td>100</td>\n",
       "      <td>115</td>\n",
       "    </tr>\n",
       "    <tr>\n",
       "      <th>7</th>\n",
       "      <td>PRAC</td>\n",
       "      <td>Nursing</td>\n",
       "      <td>132.0</td>\n",
       "      <td>126.0</td>\n",
       "      <td>155.0</td>\n",
       "      <td>189</td>\n",
       "      <td>191</td>\n",
       "    </tr>\n",
       "    <tr>\n",
       "      <th>8</th>\n",
       "      <td>FSQS</td>\n",
       "      <td>Technology/Trades</td>\n",
       "      <td>0.0</td>\n",
       "      <td>0.0</td>\n",
       "      <td>35.0</td>\n",
       "      <td>109</td>\n",
       "      <td>128</td>\n",
       "    </tr>\n",
       "    <tr>\n",
       "      <th>9</th>\n",
       "      <td>BCAS</td>\n",
       "      <td>Technology/Trades</td>\n",
       "      <td>0.0</td>\n",
       "      <td>0.0</td>\n",
       "      <td>15.0</td>\n",
       "      <td>80</td>\n",
       "      <td>83</td>\n",
       "    </tr>\n",
       "  </tbody>\n",
       "</table>\n",
       "</div>"
      ],
      "text/plain": [
       "  Program                     School  Total Registrations 2020W  \\\n",
       "0    BMAN           Business/Liberal                      101.0   \n",
       "1    BMIB           Business/Liberal                      110.0   \n",
       "2    GASX           Business/Liberal                       28.0   \n",
       "3    LIBI           Business/Liberal                        0.0   \n",
       "4    LIBS           Business/Liberal                       18.0   \n",
       "5    PARA  Fire / Health / Community                       85.0   \n",
       "6    PHRM  Fire / Health / Community                       74.0   \n",
       "7    PRAC                    Nursing                      132.0   \n",
       "8    FSQS          Technology/Trades                        0.0   \n",
       "9    BCAS          Technology/Trades                        0.0   \n",
       "\n",
       "   Total Registrations 2021W  Total Registrations 2022W  \\\n",
       "0                       75.0                      154.0   \n",
       "1                       76.0                      235.0   \n",
       "2                       29.0                       19.0   \n",
       "3                        0.0                        0.0   \n",
       "4                       14.0                       15.0   \n",
       "5                       96.0                       88.0   \n",
       "6                       56.0                       93.0   \n",
       "7                      126.0                      155.0   \n",
       "8                        0.0                       35.0   \n",
       "9                        0.0                       15.0   \n",
       "\n",
       "   Total Registrations 2023W  Total Registrations 2024W  \n",
       "0                        165                        203  \n",
       "1                        217                        365  \n",
       "2                         19                         36  \n",
       "3                          3                          8  \n",
       "4                         10                          8  \n",
       "5                        106                        101  \n",
       "6                        100                        115  \n",
       "7                        189                        191  \n",
       "8                        109                        128  \n",
       "9                         80                         83  "
      ]
     },
     "execution_count": 30,
     "metadata": {},
     "output_type": "execute_result"
    }
   ],
   "source": [
    "data_manipulation_as_of.total_registrations(order = order, \n",
    "                    terms = terms, \n",
    "                    cnxn = cnxn )"
   ]
  },
  {
   "cell_type": "code",
   "execution_count": 31,
   "id": "328a98d2",
   "metadata": {
    "ExecuteTime": {
     "end_time": "2023-11-16T14:49:51.099097Z",
     "start_time": "2023-11-16T14:49:50.889133Z"
    }
   },
   "outputs": [
    {
     "data": {
      "text/html": [
       "<div>\n",
       "<style scoped>\n",
       "    .dataframe tbody tr th:only-of-type {\n",
       "        vertical-align: middle;\n",
       "    }\n",
       "\n",
       "    .dataframe tbody tr th {\n",
       "        vertical-align: top;\n",
       "    }\n",
       "\n",
       "    .dataframe thead th {\n",
       "        text-align: right;\n",
       "    }\n",
       "</style>\n",
       "<table border=\"1\" class=\"dataframe\">\n",
       "  <thead>\n",
       "    <tr style=\"text-align: right;\">\n",
       "      <th></th>\n",
       "      <th>student_id</th>\n",
       "      <th>first_name</th>\n",
       "      <th>last_name</th>\n",
       "      <th>birth_date</th>\n",
       "      <th>gender</th>\n",
       "      <th>acad_level</th>\n",
       "      <th>imm_status</th>\n",
       "      <th>city</th>\n",
       "      <th>postal_code</th>\n",
       "      <th>location</th>\n",
       "      <th>program</th>\n",
       "      <th>AAL</th>\n",
       "      <th>current_load</th>\n",
       "      <th>tenth_day_load</th>\n",
       "      <th>curr_status</th>\n",
       "      <th>status_date</th>\n",
       "    </tr>\n",
       "  </thead>\n",
       "  <tbody>\n",
       "    <tr>\n",
       "      <th>0</th>\n",
       "      <td>0004516</td>\n",
       "      <td>Joshua</td>\n",
       "      <td>Grant</td>\n",
       "      <td>1982-01-16</td>\n",
       "      <td>M</td>\n",
       "      <td>PS</td>\n",
       "      <td>CA</td>\n",
       "      <td>Sarnia</td>\n",
       "      <td>N7T7H3</td>\n",
       "      <td>MAIN</td>\n",
       "      <td>PHRM</td>\n",
       "      <td>04</td>\n",
       "      <td>T</td>\n",
       "      <td>None</td>\n",
       "      <td>N</td>\n",
       "      <td>2023-05-23</td>\n",
       "    </tr>\n",
       "    <tr>\n",
       "      <th>1</th>\n",
       "      <td>0004996</td>\n",
       "      <td>Kristine</td>\n",
       "      <td>Donnelly</td>\n",
       "      <td>1978-07-03</td>\n",
       "      <td>F</td>\n",
       "      <td>PS</td>\n",
       "      <td>CA</td>\n",
       "      <td>Sarnia</td>\n",
       "      <td>N7V1Y6</td>\n",
       "      <td>MAIN</td>\n",
       "      <td>OAHS</td>\n",
       "      <td>04</td>\n",
       "      <td>T</td>\n",
       "      <td>None</td>\n",
       "      <td>N</td>\n",
       "      <td>2023-05-23</td>\n",
       "    </tr>\n",
       "    <tr>\n",
       "      <th>2</th>\n",
       "      <td>0005821</td>\n",
       "      <td>Scott</td>\n",
       "      <td>Chrzanowski</td>\n",
       "      <td>1979-01-20</td>\n",
       "      <td>M</td>\n",
       "      <td>PS</td>\n",
       "      <td>CA</td>\n",
       "      <td>Corunna</td>\n",
       "      <td>N0N1G0</td>\n",
       "      <td>MAIN</td>\n",
       "      <td>CTEC</td>\n",
       "      <td>04</td>\n",
       "      <td>T</td>\n",
       "      <td>None</td>\n",
       "      <td>N</td>\n",
       "      <td>2023-05-19</td>\n",
       "    </tr>\n",
       "    <tr>\n",
       "      <th>3</th>\n",
       "      <td>0006476</td>\n",
       "      <td>Erin</td>\n",
       "      <td>Beasley</td>\n",
       "      <td>1982-06-26</td>\n",
       "      <td>F</td>\n",
       "      <td>PS</td>\n",
       "      <td>CA</td>\n",
       "      <td>London</td>\n",
       "      <td>N6J 0A9</td>\n",
       "      <td>MAIN</td>\n",
       "      <td>SSWK</td>\n",
       "      <td>04</td>\n",
       "      <td>T</td>\n",
       "      <td>None</td>\n",
       "      <td>N</td>\n",
       "      <td>2023-05-23</td>\n",
       "    </tr>\n",
       "    <tr>\n",
       "      <th>4</th>\n",
       "      <td>0016001</td>\n",
       "      <td>Jordan</td>\n",
       "      <td>Brown</td>\n",
       "      <td>1986-12-16</td>\n",
       "      <td>M</td>\n",
       "      <td>AP</td>\n",
       "      <td>CA</td>\n",
       "      <td>Sarnia</td>\n",
       "      <td>N7S 3X6</td>\n",
       "      <td>MAIN</td>\n",
       "      <td>STMA</td>\n",
       "      <td>01</td>\n",
       "      <td>T</td>\n",
       "      <td>None</td>\n",
       "      <td>N</td>\n",
       "      <td>2023-10-03</td>\n",
       "    </tr>\n",
       "    <tr>\n",
       "      <th>...</th>\n",
       "      <td>...</td>\n",
       "      <td>...</td>\n",
       "      <td>...</td>\n",
       "      <td>...</td>\n",
       "      <td>...</td>\n",
       "      <td>...</td>\n",
       "      <td>...</td>\n",
       "      <td>...</td>\n",
       "      <td>...</td>\n",
       "      <td>...</td>\n",
       "      <td>...</td>\n",
       "      <td>...</td>\n",
       "      <td>...</td>\n",
       "      <td>...</td>\n",
       "      <td>...</td>\n",
       "      <td>...</td>\n",
       "    </tr>\n",
       "    <tr>\n",
       "      <th>5135</th>\n",
       "      <td>0942059</td>\n",
       "      <td>Hunter</td>\n",
       "      <td>George</td>\n",
       "      <td>1995-06-28</td>\n",
       "      <td>M</td>\n",
       "      <td>AP</td>\n",
       "      <td>None</td>\n",
       "      <td>Sarnia</td>\n",
       "      <td>N7T 7H1</td>\n",
       "      <td>MAIN</td>\n",
       "      <td>CARB</td>\n",
       "      <td>01</td>\n",
       "      <td>T</td>\n",
       "      <td>None</td>\n",
       "      <td>N</td>\n",
       "      <td>2023-10-04</td>\n",
       "    </tr>\n",
       "    <tr>\n",
       "      <th>5136</th>\n",
       "      <td>0942064</td>\n",
       "      <td>Brady</td>\n",
       "      <td>Bustin</td>\n",
       "      <td>2003-02-11</td>\n",
       "      <td>M</td>\n",
       "      <td>AP</td>\n",
       "      <td>None</td>\n",
       "      <td>Thamesville</td>\n",
       "      <td>N0P 2K0</td>\n",
       "      <td>MAIN</td>\n",
       "      <td>CARB</td>\n",
       "      <td>01</td>\n",
       "      <td>T</td>\n",
       "      <td>None</td>\n",
       "      <td>N</td>\n",
       "      <td>2023-10-04</td>\n",
       "    </tr>\n",
       "    <tr>\n",
       "      <th>5137</th>\n",
       "      <td>0942152</td>\n",
       "      <td>Tristen</td>\n",
       "      <td>Salisbury</td>\n",
       "      <td>1998-04-17</td>\n",
       "      <td>M</td>\n",
       "      <td>AP</td>\n",
       "      <td>None</td>\n",
       "      <td>Oil Springs</td>\n",
       "      <td>N0N 1P0</td>\n",
       "      <td>MAIN</td>\n",
       "      <td>CARB</td>\n",
       "      <td>01</td>\n",
       "      <td>T</td>\n",
       "      <td>None</td>\n",
       "      <td>N</td>\n",
       "      <td>2023-10-05</td>\n",
       "    </tr>\n",
       "    <tr>\n",
       "      <th>5138</th>\n",
       "      <td>0942625</td>\n",
       "      <td>Ryleigh</td>\n",
       "      <td>Vanderwal</td>\n",
       "      <td>2001-08-31</td>\n",
       "      <td>M</td>\n",
       "      <td>AP</td>\n",
       "      <td>None</td>\n",
       "      <td>Wyoming</td>\n",
       "      <td>N0N 1T0</td>\n",
       "      <td>MAIN</td>\n",
       "      <td>CARB</td>\n",
       "      <td>01</td>\n",
       "      <td>T</td>\n",
       "      <td>None</td>\n",
       "      <td>N</td>\n",
       "      <td>2023-09-19</td>\n",
       "    </tr>\n",
       "    <tr>\n",
       "      <th>5139</th>\n",
       "      <td>0942752</td>\n",
       "      <td>Brandon</td>\n",
       "      <td>Baggio</td>\n",
       "      <td>1999-10-27</td>\n",
       "      <td>M</td>\n",
       "      <td>AP</td>\n",
       "      <td>None</td>\n",
       "      <td>Chatham</td>\n",
       "      <td>N7M 0L3</td>\n",
       "      <td>MAIN</td>\n",
       "      <td>CARB</td>\n",
       "      <td>01</td>\n",
       "      <td>T</td>\n",
       "      <td>None</td>\n",
       "      <td>N</td>\n",
       "      <td>2023-10-12</td>\n",
       "    </tr>\n",
       "  </tbody>\n",
       "</table>\n",
       "<p>5140 rows × 16 columns</p>\n",
       "</div>"
      ],
      "text/plain": [
       "     student_id first_name    last_name birth_date gender acad_level  \\\n",
       "0       0004516     Joshua        Grant 1982-01-16      M         PS   \n",
       "1       0004996   Kristine     Donnelly 1978-07-03      F         PS   \n",
       "2       0005821      Scott  Chrzanowski 1979-01-20      M         PS   \n",
       "3       0006476       Erin      Beasley 1982-06-26      F         PS   \n",
       "4       0016001     Jordan        Brown 1986-12-16      M         AP   \n",
       "...         ...        ...          ...        ...    ...        ...   \n",
       "5135    0942059     Hunter       George 1995-06-28      M         AP   \n",
       "5136    0942064      Brady       Bustin 2003-02-11      M         AP   \n",
       "5137    0942152    Tristen    Salisbury 1998-04-17      M         AP   \n",
       "5138    0942625    Ryleigh    Vanderwal 2001-08-31      M         AP   \n",
       "5139    0942752    Brandon       Baggio 1999-10-27      M         AP   \n",
       "\n",
       "     imm_status         city postal_code location program AAL current_load  \\\n",
       "0            CA       Sarnia      N7T7H3     MAIN    PHRM  04            T   \n",
       "1            CA       Sarnia      N7V1Y6     MAIN    OAHS  04            T   \n",
       "2            CA      Corunna      N0N1G0     MAIN    CTEC  04            T   \n",
       "3            CA       London     N6J 0A9     MAIN    SSWK  04            T   \n",
       "4            CA       Sarnia     N7S 3X6     MAIN    STMA  01            T   \n",
       "...         ...          ...         ...      ...     ...  ..          ...   \n",
       "5135       None       Sarnia     N7T 7H1     MAIN    CARB  01            T   \n",
       "5136       None  Thamesville     N0P 2K0     MAIN    CARB  01            T   \n",
       "5137       None  Oil Springs     N0N 1P0     MAIN    CARB  01            T   \n",
       "5138       None      Wyoming     N0N 1T0     MAIN    CARB  01            T   \n",
       "5139       None      Chatham     N7M 0L3     MAIN    CARB  01            T   \n",
       "\n",
       "     tenth_day_load curr_status status_date  \n",
       "0              None           N  2023-05-23  \n",
       "1              None           N  2023-05-23  \n",
       "2              None           N  2023-05-19  \n",
       "3              None           N  2023-05-23  \n",
       "4              None           N  2023-10-03  \n",
       "...             ...         ...         ...  \n",
       "5135           None           N  2023-10-04  \n",
       "5136           None           N  2023-10-04  \n",
       "5137           None           N  2023-10-05  \n",
       "5138           None           N  2023-09-19  \n",
       "5139           None           N  2023-10-12  \n",
       "\n",
       "[5140 rows x 16 columns]"
      ]
     },
     "execution_count": 31,
     "metadata": {},
     "output_type": "execute_result"
    }
   ],
   "source": [
    "queries_as_of.xstl_query_term_level_campus('2024W','0', cnxn)"
   ]
  },
  {
   "cell_type": "code",
   "execution_count": null,
   "id": "77d4f923",
   "metadata": {},
   "outputs": [],
   "source": []
  },
  {
   "cell_type": "code",
   "execution_count": null,
   "id": "4e7233db",
   "metadata": {},
   "outputs": [],
   "source": []
  },
  {
   "cell_type": "markdown",
   "id": "bd44875a",
   "metadata": {},
   "source": [
    "# final numbers dashboard"
   ]
  },
  {
   "cell_type": "code",
   "execution_count": 7,
   "id": "b8b06bdc",
   "metadata": {
    "ExecuteTime": {
     "end_time": "2023-11-21T15:37:45.294249Z",
     "start_time": "2023-11-21T15:37:45.269330Z"
    }
   },
   "outputs": [],
   "source": [
    "dataframe_apps = pd.DataFrame()"
   ]
  },
  {
   "cell_type": "code",
   "execution_count": 8,
   "id": "ff52a7bd",
   "metadata": {
    "ExecuteTime": {
     "end_time": "2023-11-21T15:37:45.490492Z",
     "start_time": "2023-11-21T15:37:45.485506Z"
    }
   },
   "outputs": [],
   "source": [
    "terms =[f'{year}{intake}' for year in range(2017, 2024) for intake in ['W','S','F']]"
   ]
  },
  {
   "cell_type": "code",
   "execution_count": 9,
   "id": "3c4c13f9",
   "metadata": {
    "ExecuteTime": {
     "end_time": "2023-11-21T15:37:46.846707Z",
     "start_time": "2023-11-21T15:37:45.691966Z"
    }
   },
   "outputs": [
    {
     "name": "stdout",
     "output_type": "stream",
     "text": [
      "[Info] Connection built successfully. Server: CISSQL-live01, database: production. Created on 2024-01-09 at 13:03:55\n"
     ]
    }
   ],
   "source": [
    "cnxn = python_utils.get_connection()\n",
    "for term in terms:\n",
    "    dataframe_apps = dataframe_apps.append(queries_as_of.ApplicationsQuery(term = term, number = '0', cnxn = cnxn))"
   ]
  },
  {
   "cell_type": "code",
   "execution_count": 10,
   "id": "cbe73a8c",
   "metadata": {
    "ExecuteTime": {
     "end_time": "2023-11-21T15:37:47.050354Z",
     "start_time": "2023-11-21T15:37:47.041378Z"
    }
   },
   "outputs": [],
   "source": [
    "order = pd.DataFrame({'Program':list(dataframe_apps['Program'].unique())})"
   ]
  },
  {
   "cell_type": "code",
   "execution_count": 11,
   "id": "c20d85c6",
   "metadata": {
    "ExecuteTime": {
     "end_time": "2023-11-21T15:37:47.226922Z",
     "start_time": "2023-11-21T15:37:47.221935Z"
    }
   },
   "outputs": [],
   "source": [
    "start_year = 2018\n",
    "end_year = 2024\n",
    "report_name = {\n",
    "    'fall': [f'{year}F.xlsx' for year in range(start_year, end_year)], \n",
    "    'winter': [f'{year}W.xlsx' for year in range(start_year, end_year)],\n",
    "    'summer': [f'{year}S.xlsx' for year in range(start_year, end_year)]\n",
    "}"
   ]
  },
  {
   "cell_type": "code",
   "execution_count": 12,
   "id": "cab11ba7",
   "metadata": {
    "ExecuteTime": {
     "end_time": "2023-11-21T15:37:51.266390Z",
     "start_time": "2023-11-21T15:37:47.420954Z"
    }
   },
   "outputs": [],
   "source": [
    "df = custom_sharepoint.sharepoint_download_excel(sharepoint_base_url = 'https://mylambton.sharepoint.com/sites/EnrolmentDashboard/',\n",
    "                                                         file_name= '2023F.xlsx',\n",
    "                                                         folder = 'snapshots/fall')"
   ]
  },
  {
   "cell_type": "code",
   "execution_count": 20,
   "id": "ebbad271",
   "metadata": {
    "ExecuteTime": {
     "end_time": "2023-11-21T15:38:36.055629Z",
     "start_time": "2023-11-21T15:37:51.460442Z"
    }
   },
   "outputs": [
    {
     "name": "stderr",
     "output_type": "stream",
     "text": [
      "100%|██████████| 6/6 [00:40<00:00,  6.79s/it]\n",
      "100%|██████████| 6/6 [00:45<00:00,  7.52s/it]\n",
      "100%|██████████| 6/6 [00:32<00:00,  5.34s/it]\n"
     ]
    }
   ],
   "source": [
    "# Empty list to collect all the DataFrames\n",
    "all_dfs = []\n",
    "\n",
    "# Iterate over each season and its corresponding terms\n",
    "for season, terms in report_name.items():\n",
    "    for term in tqdm(terms):\n",
    "        # Your provided lines of code\n",
    "        df = custom_sharepoint.sharepoint_download_excel(sharepoint_base_url = 'https://mylambton.sharepoint.com/sites/EnrolmentDashboard/',\n",
    "                                                         file_name= term,\n",
    "                                                         folder = f'snapshots/{season}')\n",
    "        df['Student Visa'] = df['Student Visa'].fillna('domestic')\n",
    "        df['Student Visa'] = df['Student Visa'].map({'SV':'international', 'domestic':'domestic'})\n",
    "        df = df[~df['Student Load'].isin(['C','T'])]\n",
    "        df = df[['Student ID','Program', 'AAL', 'Student Visa','Student Load']].groupby(['Program', 'AAL', 'Student Visa','Student Load']).count().reset_index()\n",
    "        df['term'] = term[:-1][0:5]  # Extract the year from the term\n",
    "        \n",
    "        # Append the DataFrame to the list\n",
    "        all_dfs.append(df)\n",
    "\n",
    "# Optionally, you can concatenate all the DataFrames into one\n",
    "final_df = pd.concat(all_dfs, ignore_index=True)\n",
    "\n",
    "final_df['Program'] = final_df['Program'].str[0:4]\n",
    "\n",
    "final_df = pd.pivot_table(final_df, \n",
    "                          values = 'Student ID', \n",
    "                          index = ['Program', 'Student Visa','AAL','Student Load'], \n",
    "                          columns = ['term'], \n",
    "                          aggfunc=\"sum\").fillna(0).reset_index()\n",
    "\n",
    "programs_schools = global_params.program_school_dict(file_name = 'order_fall.txt')\n",
    "final_df['School'] = final_df['Program'].map(programs_schools)"
   ]
  },
  {
   "cell_type": "code",
   "execution_count": 22,
   "id": "3f0baa7b-0780-40b0-ae37-31db7c05e939",
   "metadata": {},
   "outputs": [
    {
     "data": {
      "text/html": [
       "<div>\n",
       "<style scoped>\n",
       "    .dataframe tbody tr th:only-of-type {\n",
       "        vertical-align: middle;\n",
       "    }\n",
       "\n",
       "    .dataframe tbody tr th {\n",
       "        vertical-align: top;\n",
       "    }\n",
       "\n",
       "    .dataframe thead th {\n",
       "        text-align: right;\n",
       "    }\n",
       "</style>\n",
       "<table border=\"1\" class=\"dataframe\">\n",
       "  <thead>\n",
       "    <tr style=\"text-align: right;\">\n",
       "      <th>term</th>\n",
       "      <th>Program</th>\n",
       "      <th>Student Visa</th>\n",
       "      <th>AAL</th>\n",
       "      <th>Student Load</th>\n",
       "      <th>School</th>\n",
       "      <th>2018W</th>\n",
       "      <th>2018S</th>\n",
       "      <th>2018F</th>\n",
       "      <th>2019W</th>\n",
       "      <th>2019S</th>\n",
       "      <th>...</th>\n",
       "      <th>2020F</th>\n",
       "      <th>2021W</th>\n",
       "      <th>2021S</th>\n",
       "      <th>2021F</th>\n",
       "      <th>2022W</th>\n",
       "      <th>2022S</th>\n",
       "      <th>2022F</th>\n",
       "      <th>2023W</th>\n",
       "      <th>2023S</th>\n",
       "      <th>2023F</th>\n",
       "    </tr>\n",
       "  </thead>\n",
       "  <tbody>\n",
       "    <tr>\n",
       "      <th>1178</th>\n",
       "      <td>WELD</td>\n",
       "      <td>domestic</td>\n",
       "      <td>1.0</td>\n",
       "      <td>F</td>\n",
       "      <td>Technology/Trades</td>\n",
       "      <td>10.0</td>\n",
       "      <td>0.0</td>\n",
       "      <td>31.0</td>\n",
       "      <td>0.0</td>\n",
       "      <td>0.0</td>\n",
       "      <td>...</td>\n",
       "      <td>31.0</td>\n",
       "      <td>0.0</td>\n",
       "      <td>0.0</td>\n",
       "      <td>26.0</td>\n",
       "      <td>0.0</td>\n",
       "      <td>0.0</td>\n",
       "      <td>29.0</td>\n",
       "      <td>0.0</td>\n",
       "      <td>0.0</td>\n",
       "      <td>37.0</td>\n",
       "    </tr>\n",
       "    <tr>\n",
       "      <th>1179</th>\n",
       "      <td>WELD</td>\n",
       "      <td>domestic</td>\n",
       "      <td>1.0</td>\n",
       "      <td>P</td>\n",
       "      <td>Technology/Trades</td>\n",
       "      <td>0.0</td>\n",
       "      <td>0.0</td>\n",
       "      <td>0.0</td>\n",
       "      <td>0.0</td>\n",
       "      <td>0.0</td>\n",
       "      <td>...</td>\n",
       "      <td>0.0</td>\n",
       "      <td>0.0</td>\n",
       "      <td>0.0</td>\n",
       "      <td>1.0</td>\n",
       "      <td>0.0</td>\n",
       "      <td>0.0</td>\n",
       "      <td>0.0</td>\n",
       "      <td>0.0</td>\n",
       "      <td>0.0</td>\n",
       "      <td>0.0</td>\n",
       "    </tr>\n",
       "    <tr>\n",
       "      <th>1180</th>\n",
       "      <td>WELD</td>\n",
       "      <td>domestic</td>\n",
       "      <td>2.0</td>\n",
       "      <td>F</td>\n",
       "      <td>Technology/Trades</td>\n",
       "      <td>23.0</td>\n",
       "      <td>8.0</td>\n",
       "      <td>0.0</td>\n",
       "      <td>26.0</td>\n",
       "      <td>0.0</td>\n",
       "      <td>...</td>\n",
       "      <td>0.0</td>\n",
       "      <td>22.0</td>\n",
       "      <td>0.0</td>\n",
       "      <td>0.0</td>\n",
       "      <td>19.0</td>\n",
       "      <td>0.0</td>\n",
       "      <td>0.0</td>\n",
       "      <td>25.0</td>\n",
       "      <td>0.0</td>\n",
       "      <td>0.0</td>\n",
       "    </tr>\n",
       "    <tr>\n",
       "      <th>1181</th>\n",
       "      <td>WELD</td>\n",
       "      <td>domestic</td>\n",
       "      <td>2.0</td>\n",
       "      <td>O</td>\n",
       "      <td>Technology/Trades</td>\n",
       "      <td>3.0</td>\n",
       "      <td>0.0</td>\n",
       "      <td>0.0</td>\n",
       "      <td>0.0</td>\n",
       "      <td>0.0</td>\n",
       "      <td>...</td>\n",
       "      <td>0.0</td>\n",
       "      <td>0.0</td>\n",
       "      <td>0.0</td>\n",
       "      <td>0.0</td>\n",
       "      <td>1.0</td>\n",
       "      <td>0.0</td>\n",
       "      <td>0.0</td>\n",
       "      <td>0.0</td>\n",
       "      <td>0.0</td>\n",
       "      <td>0.0</td>\n",
       "    </tr>\n",
       "    <tr>\n",
       "      <th>1182</th>\n",
       "      <td>WELD</td>\n",
       "      <td>domestic</td>\n",
       "      <td>2.0</td>\n",
       "      <td>P</td>\n",
       "      <td>Technology/Trades</td>\n",
       "      <td>4.0</td>\n",
       "      <td>0.0</td>\n",
       "      <td>0.0</td>\n",
       "      <td>0.0</td>\n",
       "      <td>0.0</td>\n",
       "      <td>...</td>\n",
       "      <td>0.0</td>\n",
       "      <td>3.0</td>\n",
       "      <td>0.0</td>\n",
       "      <td>0.0</td>\n",
       "      <td>3.0</td>\n",
       "      <td>0.0</td>\n",
       "      <td>0.0</td>\n",
       "      <td>0.0</td>\n",
       "      <td>0.0</td>\n",
       "      <td>0.0</td>\n",
       "    </tr>\n",
       "    <tr>\n",
       "      <th>1183</th>\n",
       "      <td>WELD</td>\n",
       "      <td>international</td>\n",
       "      <td>1.0</td>\n",
       "      <td>F</td>\n",
       "      <td>Technology/Trades</td>\n",
       "      <td>0.0</td>\n",
       "      <td>0.0</td>\n",
       "      <td>2.0</td>\n",
       "      <td>0.0</td>\n",
       "      <td>0.0</td>\n",
       "      <td>...</td>\n",
       "      <td>0.0</td>\n",
       "      <td>0.0</td>\n",
       "      <td>0.0</td>\n",
       "      <td>0.0</td>\n",
       "      <td>0.0</td>\n",
       "      <td>0.0</td>\n",
       "      <td>0.0</td>\n",
       "      <td>0.0</td>\n",
       "      <td>0.0</td>\n",
       "      <td>0.0</td>\n",
       "    </tr>\n",
       "    <tr>\n",
       "      <th>1184</th>\n",
       "      <td>WELD</td>\n",
       "      <td>international</td>\n",
       "      <td>2.0</td>\n",
       "      <td>F</td>\n",
       "      <td>Technology/Trades</td>\n",
       "      <td>0.0</td>\n",
       "      <td>0.0</td>\n",
       "      <td>0.0</td>\n",
       "      <td>2.0</td>\n",
       "      <td>0.0</td>\n",
       "      <td>...</td>\n",
       "      <td>0.0</td>\n",
       "      <td>0.0</td>\n",
       "      <td>0.0</td>\n",
       "      <td>0.0</td>\n",
       "      <td>0.0</td>\n",
       "      <td>0.0</td>\n",
       "      <td>0.0</td>\n",
       "      <td>0.0</td>\n",
       "      <td>0.0</td>\n",
       "      <td>0.0</td>\n",
       "    </tr>\n",
       "  </tbody>\n",
       "</table>\n",
       "<p>7 rows × 23 columns</p>\n",
       "</div>"
      ],
      "text/plain": [
       "term Program   Student Visa  AAL Student Load             School  2018W  \\\n",
       "1178    WELD       domestic  1.0            F  Technology/Trades   10.0   \n",
       "1179    WELD       domestic  1.0            P  Technology/Trades    0.0   \n",
       "1180    WELD       domestic  2.0            F  Technology/Trades   23.0   \n",
       "1181    WELD       domestic  2.0            O  Technology/Trades    3.0   \n",
       "1182    WELD       domestic  2.0            P  Technology/Trades    4.0   \n",
       "1183    WELD  international  1.0            F  Technology/Trades    0.0   \n",
       "1184    WELD  international  2.0            F  Technology/Trades    0.0   \n",
       "\n",
       "term  2018S  2018F  2019W  2019S  ...  2020F  2021W  2021S  2021F  2022W  \\\n",
       "1178    0.0   31.0    0.0    0.0  ...   31.0    0.0    0.0   26.0    0.0   \n",
       "1179    0.0    0.0    0.0    0.0  ...    0.0    0.0    0.0    1.0    0.0   \n",
       "1180    8.0    0.0   26.0    0.0  ...    0.0   22.0    0.0    0.0   19.0   \n",
       "1181    0.0    0.0    0.0    0.0  ...    0.0    0.0    0.0    0.0    1.0   \n",
       "1182    0.0    0.0    0.0    0.0  ...    0.0    3.0    0.0    0.0    3.0   \n",
       "1183    0.0    2.0    0.0    0.0  ...    0.0    0.0    0.0    0.0    0.0   \n",
       "1184    0.0    0.0    2.0    0.0  ...    0.0    0.0    0.0    0.0    0.0   \n",
       "\n",
       "term  2022S  2022F  2023W  2023S  2023F  \n",
       "1178    0.0   29.0    0.0    0.0   37.0  \n",
       "1179    0.0    0.0    0.0    0.0    0.0  \n",
       "1180    0.0    0.0   25.0    0.0    0.0  \n",
       "1181    0.0    0.0    0.0    0.0    0.0  \n",
       "1182    0.0    0.0    0.0    0.0    0.0  \n",
       "1183    0.0    0.0    0.0    0.0    0.0  \n",
       "1184    0.0    0.0    0.0    0.0    0.0  \n",
       "\n",
       "[7 rows x 23 columns]"
      ]
     },
     "execution_count": 22,
     "metadata": {},
     "output_type": "execute_result"
    }
   ],
   "source": [
    "python_utils.sort_term_columns(final_df[final_df['Program']=='WELD'])"
   ]
  },
  {
   "cell_type": "code",
   "execution_count": 28,
   "id": "a0e95a0a",
   "metadata": {
    "ExecuteTime": {
     "end_time": "2023-11-21T15:38:40.401375Z",
     "start_time": "2023-11-21T15:38:36.243018Z"
    }
   },
   "outputs": [],
   "source": [
    "output_root = Path.cwd()/'final_numbers_report.xlsx'\n",
    "terms =[f'{year}{intake}' for year in range(2017, 2024) for intake in ['W','S','F']]\n",
    "with pd.ExcelWriter(output_root, engine='xlsxwriter') as writer:\n",
    "    data_manipulation_historical.AppsEndofCycle(order = order, \n",
    "                                            terms = terms, \n",
    "                                            cnxn = cnxn ).to_excel(excel_writer = writer,\n",
    "                                                                   sheet_name='apps',\n",
    "                                                                   index=False)\n",
    "\n",
    "    data_manipulation_historical.OffersEndofCycle(order = order,\n",
    "                                                  terms = terms,\n",
    "                                                  cnxn = cnxn ).to_excel(excel_writer = writer,\n",
    "                                                                         sheet_name='offers',\n",
    "                                                                         index=False)\n",
    "\n",
    "    data_manipulation_historical.ConfirmationsEndofCycle(order = order, \n",
    "                                                         terms = terms,\n",
    "                                                         cnxn = cnxn ).to_excel(excel_writer = writer,\n",
    "                                                                                sheet_name='confs',\n",
    "                                                                                index=False)\n",
    "    final_df.to_excel(excel_writer = writer,\n",
    "                      sheet_name = 'regs',\n",
    "                      index = False)"
   ]
  },
  {
   "cell_type": "code",
   "execution_count": null,
   "id": "c209ae85-5295-4056-8b70-e456cfaa9392",
   "metadata": {},
   "outputs": [],
   "source": [
    "OffersEndofCycle\n",
    "ConfirmationsEndofCycle"
   ]
  },
  {
   "cell_type": "code",
   "execution_count": 26,
   "id": "08484089-1b82-4e9a-986a-e5182fe88679",
   "metadata": {},
   "outputs": [
    {
     "data": {
      "text/html": [
       "<div>\n",
       "<style scoped>\n",
       "    .dataframe tbody tr th:only-of-type {\n",
       "        vertical-align: middle;\n",
       "    }\n",
       "\n",
       "    .dataframe tbody tr th {\n",
       "        vertical-align: top;\n",
       "    }\n",
       "\n",
       "    .dataframe thead th {\n",
       "        text-align: right;\n",
       "    }\n",
       "</style>\n",
       "<table border=\"1\" class=\"dataframe\">\n",
       "  <thead>\n",
       "    <tr style=\"text-align: right;\">\n",
       "      <th></th>\n",
       "      <th>program</th>\n",
       "    </tr>\n",
       "  </thead>\n",
       "  <tbody>\n",
       "    <tr>\n",
       "      <th>0</th>\n",
       "      <td>WELD</td>\n",
       "    </tr>\n",
       "  </tbody>\n",
       "</table>\n",
       "</div>"
      ],
      "text/plain": [
       "  program\n",
       "0    WELD"
      ]
     },
     "execution_count": 26,
     "metadata": {},
     "output_type": "execute_result"
    }
   ],
   "source": [
    "pd.DataFrame({'program':'WELD'}, index = [0])"
   ]
  },
  {
   "cell_type": "code",
   "execution_count": 28,
   "id": "e36fc61a-7fb3-4283-8ea3-20278ccf699d",
   "metadata": {},
   "outputs": [],
   "source": [
    "terms = [f'{year}{intake}' for year in range(2017, 2024) for intake in ['W','S','F']]"
   ]
  },
  {
   "cell_type": "code",
   "execution_count": 30,
   "id": "bce366a8-45f7-4592-9bf6-cd2aa97e6e14",
   "metadata": {},
   "outputs": [
    {
     "data": {
      "text/html": [
       "<div>\n",
       "<style scoped>\n",
       "    .dataframe tbody tr th:only-of-type {\n",
       "        vertical-align: middle;\n",
       "    }\n",
       "\n",
       "    .dataframe tbody tr th {\n",
       "        vertical-align: top;\n",
       "    }\n",
       "\n",
       "    .dataframe thead th {\n",
       "        text-align: right;\n",
       "    }\n",
       "</style>\n",
       "<table border=\"1\" class=\"dataframe\">\n",
       "  <thead>\n",
       "    <tr style=\"text-align: right;\">\n",
       "      <th></th>\n",
       "      <th>Program</th>\n",
       "      <th>Applications 2017W</th>\n",
       "      <th>Applications 2017S</th>\n",
       "      <th>Applications 2017F</th>\n",
       "      <th>Applications 2018W</th>\n",
       "      <th>Applications 2018S</th>\n",
       "      <th>Applications 2018F</th>\n",
       "      <th>Applications 2019W</th>\n",
       "      <th>Applications 2019S</th>\n",
       "      <th>Applications 2019F</th>\n",
       "      <th>...</th>\n",
       "      <th>Applications 2020F</th>\n",
       "      <th>Applications 2021W</th>\n",
       "      <th>Applications 2021S</th>\n",
       "      <th>Applications 2021F</th>\n",
       "      <th>Applications 2022W</th>\n",
       "      <th>Applications 2022S</th>\n",
       "      <th>Applications 2022F</th>\n",
       "      <th>Applications 2023W</th>\n",
       "      <th>Applications 2023S</th>\n",
       "      <th>Applications 2023F</th>\n",
       "    </tr>\n",
       "  </thead>\n",
       "  <tbody>\n",
       "    <tr>\n",
       "      <th>0</th>\n",
       "      <td>WELD</td>\n",
       "      <td>0.0</td>\n",
       "      <td>0.0</td>\n",
       "      <td>118</td>\n",
       "      <td>20</td>\n",
       "      <td>0.0</td>\n",
       "      <td>116</td>\n",
       "      <td>18</td>\n",
       "      <td>0.0</td>\n",
       "      <td>103</td>\n",
       "      <td>...</td>\n",
       "      <td>125</td>\n",
       "      <td>0.0</td>\n",
       "      <td>0.0</td>\n",
       "      <td>101</td>\n",
       "      <td>0.0</td>\n",
       "      <td>0.0</td>\n",
       "      <td>135</td>\n",
       "      <td>0.0</td>\n",
       "      <td>0.0</td>\n",
       "      <td>160</td>\n",
       "    </tr>\n",
       "  </tbody>\n",
       "</table>\n",
       "<p>1 rows × 22 columns</p>\n",
       "</div>"
      ],
      "text/plain": [
       "  Program  Applications 2017W  Applications 2017S  Applications 2017F  \\\n",
       "0    WELD                 0.0                 0.0                 118   \n",
       "\n",
       "   Applications 2018W  Applications 2018S  Applications 2018F  \\\n",
       "0                  20                 0.0                 116   \n",
       "\n",
       "   Applications 2019W  Applications 2019S  Applications 2019F  ...  \\\n",
       "0                  18                 0.0                 103  ...   \n",
       "\n",
       "   Applications 2020F  Applications 2021W  Applications 2021S  \\\n",
       "0                 125                 0.0                 0.0   \n",
       "\n",
       "   Applications 2021F  Applications 2022W  Applications 2022S  \\\n",
       "0                 101                 0.0                 0.0   \n",
       "\n",
       "   Applications 2022F  Applications 2023W  Applications 2023S  \\\n",
       "0                 135                 0.0                 0.0   \n",
       "\n",
       "   Applications 2023F  \n",
       "0                 160  \n",
       "\n",
       "[1 rows x 22 columns]"
      ]
     },
     "execution_count": 30,
     "metadata": {},
     "output_type": "execute_result"
    }
   ],
   "source": [
    "data_manipulation_historical.AppsEndofCycle(order = pd.DataFrame({'Program':'WELD'}, index = [0]), \n",
    "                                            terms = terms, \n",
    "                                            cnxn = cnxn )"
   ]
  },
  {
   "cell_type": "markdown",
   "id": "29a0dade-cf7d-4567-9840-49f65e842bb5",
   "metadata": {},
   "source": [
    "# Fixing probabilities of hitting targets"
   ]
  },
  {
   "cell_type": "code",
   "execution_count": 8,
   "id": "5e6b0f8f-3bde-4772-80f5-fed64cb92597",
   "metadata": {},
   "outputs": [],
   "source": [
    "from enrolment_utils import custom_sharepoint, apps_confs_progression, global_params\n",
    "from prophet import Prophet\n",
    "import python_utils\n",
    "import pandas as pd\n",
    "import pyodbc\n",
    "from tqdm import tqdm\n",
    "from scipy.stats import norm\n",
    "from io import StringIO\n",
    "\n",
    "from office365.runtime.auth.authentication_context import AuthenticationContext\n",
    "from office365.sharepoint.client_context import ClientContext\n",
    "from office365.sharepoint.files.file import File\n",
    "\n",
    "from datetime import datetime, timedelta\n",
    "\n",
    "from shareplum import Office365\n",
    "from shareplum import Site\n",
    "from shareplum.site import Version"
   ]
  },
  {
   "cell_type": "code",
   "execution_count": 9,
   "id": "47e23a1a-dd1e-4415-acf1-c3824d1c191f",
   "metadata": {},
   "outputs": [],
   "source": [
    "def getting_individual_dates(start_date: str, \n",
    "                             end_date: str):\n",
    "    \"\"\"\n",
    "    This function creates the dates within a dates range given in %yyyy-%mm-%dd format \n",
    "    \n",
    "    Args: \n",
    "        start_date (str): Start date in %yyyy-%mm-%dd format \n",
    "        end_date (str): End date in %yyyy-%mm-%dd format \n",
    "        \n",
    "    Returns: \n",
    "        list of dates between start and end dates\n",
    "    \n",
    "    Example Usage: \n",
    "        getting_individual_dates(start_date = '2020-01-01', \n",
    "                         end_date = '2021-01-01')\n",
    "    \"\"\"\n",
    "    \n",
    "    # Setting input dates\n",
    "    start_date_obj = datetime.strptime(start_date, '%Y-%m-%d')\n",
    "    end_date_obj = datetime.strptime(end_date, '%Y-%m-%d')\n",
    "\n",
    "    # Creating and arranging dates\n",
    "    date_list = [start_date_obj + timedelta(days=x) for x in range(0, (end_date_obj - start_date_obj).days + 1)]\n",
    "    date_list = [date.strftime('%Y-%m-%d') for date in date_list]\n",
    "\n",
    "    return date_list;"
   ]
  },
  {
   "cell_type": "code",
   "execution_count": 10,
   "id": "74dfdb04-7ce3-473d-945c-a7b6ef717bff",
   "metadata": {},
   "outputs": [],
   "source": [
    "def creating_dates_per_term(start_year:int, end_year:int, term:str) -> dict:\n",
    "    \"\"\"\n",
    "    This function would build dictionaries containing dates for enrolment cycles. \n",
    "    For past years, it would provide the end and start dates, for current cycle, will get dates as of today.\n",
    "    \n",
    "    args: \n",
    "        start_year (int): Start year\n",
    "        end_year (int): End year\n",
    "        term (str): current enrolment term\n",
    "    \n",
    "    Returns: \n",
    "        dictionary containing start and end dates for enrolment cycles\n",
    "        \n",
    "    Example Usage: \n",
    "        creating_dates_per_term(start_year = 2020, \n",
    "                                end_year = 2023, \n",
    "                                term = '2023F')\n",
    "    \"\"\"\n",
    "    # Getting current date and year\n",
    "    current_year = datetime.now().year\n",
    "    current_date = datetime.now().date().isoformat()\n",
    "    \n",
    "    \n",
    "    # end_date_map = {\n",
    "    #     'F': \"-09-20\",\n",
    "    #     'W': \"-01-06\",\n",
    "    #     'S': \"-05-06\"\n",
    "    # }\n",
    "    \n",
    "    # start_date_map = {\n",
    "    #     'F': \"-09-21\",\n",
    "    #     'W': \"-01-05\",\n",
    "    #     'S': \"-05-05\"\n",
    "    # }\n",
    "\n",
    "    # Creating dictionary through dict comprehension\n",
    "    end_date_map, start_date_map = global_params.start_end_term_dates()\n",
    "    dates_dict = {\n",
    "        f\"{year+1}{term[-1]}\": {\n",
    "            \"start_date\": f\"{year}{start_date_map[term[-1]]}\",\n",
    "            \"end_date\": f\"{year+1}{end_date_map[term[-1]]}\"\n",
    "        }\n",
    "        for year in range(start_year, end_year)\n",
    "    }\n",
    "\n",
    "    # Adjust the 'end_date' for the term year\n",
    "    if int(term[:-1]) == current_year + 1:\n",
    "        dates_dict[term]['end_date'] = current_date\n",
    "\n",
    "    # Ensure the 'end_date' for the year before the term year matches the start of the term year\n",
    "    if int(term[:-1]) - 1 in [year for year in range(start_year, end_year)]:\n",
    "        prev_term = str(int(term[:-1]) - 1) + term[-1]\n",
    "        dates_dict[prev_term]['end_date'] = dates_dict[term]['start_date']\n",
    "\n",
    "    return dates_dict;\n"
   ]
  },
  {
   "cell_type": "code",
   "execution_count": 11,
   "id": "f17199bc-4feb-47ca-9556-ec73e119169c",
   "metadata": {},
   "outputs": [],
   "source": [
    "def final_enrolment_day_be_term(term: str): \n",
    "    \"\"\"\n",
    "    This function computes the number of days before hitting day 10th of enrolment cycle\n",
    "    \n",
    "    Args: \n",
    "        term (str): Term of interest\n",
    "    \n",
    "    Returns: \n",
    "        Integer number of days until day 10th of enrolment cycle\n",
    "    \"\"\"\n",
    "    # Tipically, day 10th will be on the 20th of the starting month \n",
    "    if term[-1]=='F':\n",
    "        end_date = datetime(int(term[:4]), 9, 20)\n",
    "    elif term[-1]=='W': \n",
    "        end_date = datetime(int(term[:4]), 1, 20)\n",
    "    elif term[-1]=='S': \n",
    "        end_date = datetime(int(term[:4]), 5, 20)\n",
    "    \n",
    "    # All reporting should be made based on the current day the code is run. \n",
    "    periods = (end_date - datetime.now()).days\n",
    "    \n",
    "    # In case number is not positive, correct that so it would not crash \n",
    "    if periods<= 0:\n",
    "        periods = 1\n",
    "        \n",
    "    return periods"
   ]
  },
  {
   "cell_type": "code",
   "execution_count": 12,
   "id": "56879106-597e-441e-83bb-8ef48d0b0961",
   "metadata": {},
   "outputs": [],
   "source": [
    "def program_full_data(program:str, \n",
    "                      start_year:int, \n",
    "                      end_year:int, \n",
    "                      term: str,\n",
    "                      cnxn: pyodbc.Connection = None, \n",
    "                      folder_name = 'registrations'):\n",
    "    \"\"\"\n",
    "    This function gets full historical data for a given program. If there is no program file with data, creates it. \n",
    "    It there is program file, it updates it with missing dates. \n",
    "    \n",
    "    Args: \n",
    "        program (str): Program of interest to retrieve data.\n",
    "        start_year (int): start year to start tracking historical data\n",
    "        end_year (int): start year to start tracking historical data\n",
    "        term (str): Term of interest \n",
    "        cnxn (pyodbc.Connection): Connection to retrieve data from (set as None by default)\n",
    "        \n",
    "    Returns: \n",
    "        Dataframe (pd.DataFrame) with dates and number of registrations. \n",
    "    \n",
    "    Example Usage:     \n",
    "        program_full_data(program = 'ACTG', term = '2023F)\n",
    "    \"\"\"\n",
    "    \n",
    "    # Creating connection if none is provided\n",
    "    if cnxn is None: \n",
    "        cnxn = python_utils.get_connection()\n",
    "        \n",
    "    files, folder = custom_sharepoint.list_files_in_sharepoint(term = term, \n",
    "                                                               folder = folder_name)\n",
    "\n",
    "    program_file = program + '.txt'\n",
    "    if program_file in files: \n",
    "        # Get the file from SharePoint\n",
    "        byte_content = folder.get_file(program_file)\n",
    "\n",
    "        # Convert byte string to a regular string\n",
    "        content_str = byte_content.decode('utf-8')\n",
    "\n",
    "        # Convert string to a pandas DataFrame\n",
    "        dataframe = pd.read_csv(StringIO(content_str), delimiter='\\t')\n",
    "\n",
    "        # Collecting missing dates\n",
    "        missing_dates = getting_individual_dates(start_date = dataframe['ds'].dropna().iloc[-1], \n",
    "                                                end_date = datetime.today().date().strftime(format = '%Y-%m-%d'))\n",
    "\t\n",
    "\n",
    "\n",
    "        # Retrieving data from missing dates\n",
    "        df_update = pd.DataFrame()\n",
    "        for date in missing_dates:\n",
    "            # Making sure only missing dates are added\n",
    "            if date not in [x for x in dataframe['ds']]:\n",
    "                if folder_name == 'registrations':\n",
    "                    df_update = df_update.append(apps_confs_progression.retrieving_regs_program_per_term_per_date(program = program, \n",
    "                                                                                          term = term, \n",
    "                                                                                          date = date, \n",
    "                                                                                          cnxn = cnxn))\n",
    "                if folder_name == 'applications':\n",
    "                    df_update = df_update.append(apps_confs_progression.retrieving_apps_program_per_term_per_date(program = program, \n",
    "                                                                                          term = term, \n",
    "                                                                                          date = date, \n",
    "                                                                                          cnxn = cnxn))\n",
    "                if folder_name == 'confirmations':\n",
    "                    df_update = df_update.append(apps_confs_progression.retrieving_confs_program_per_term_per_date(program = program, \n",
    "                                                                                          term = term, \n",
    "                                                                                          date = date, \n",
    "                                                                                          cnxn = cnxn))\n",
    "                    \n",
    "        # putting it all together\n",
    "        dataframe = dataframe.append(df_update)\n",
    "\n",
    "        # Fixing date format \n",
    "        dataframe['ds'] = pd.to_datetime(dataframe['ds'], format = '%Y-%m-%d')\n",
    "\n",
    "        # Convert DataFrame to CSV in-memory and then upload\n",
    "        output = StringIO()\n",
    "        dataframe.to_csv(output, sep = '\\t', index=False)\n",
    "        csv_content = output.getvalue().encode('utf-8') # Convert to bytes-like object\n",
    "\n",
    "        # Upload/update the document\n",
    "        folder.upload_file(csv_content, program_file)\n",
    "\n",
    "    if program_file not in files: \n",
    "        # Building program information\n",
    "        if folder_name == 'registrations':\n",
    "            df_final = apps_confs_progression.building_program_record(program = program,\n",
    "                                            start_year = start_year, \n",
    "                                            end_year = end_year,\n",
    "                                            term = term,\n",
    "                                            cnxn = cnxn)\n",
    "        if folder_name == 'applications':\n",
    "            df_final = apps_confs_progression.building_program_record_apps(program = program,\n",
    "                                            start_year = start_year, \n",
    "                                            end_year = end_year,\n",
    "                                            term = term,\n",
    "                                            cnxn = cnxn)\n",
    "        if folder_name == 'confirmations':\n",
    "            df_final = apps_confs_progression.building_program_record_confs(program = program,\n",
    "                                            start_year = start_year, \n",
    "                                            end_year = end_year,\n",
    "                                            term = term,\n",
    "                                            cnxn = cnxn)\n",
    "            \n",
    "        # Convert DataFrame to CSV in-memory and then upload\n",
    "        output = StringIO()\n",
    "        df_final.to_csv(output, sep = '\\t', index=False)\n",
    "        csv_content = output.getvalue().encode('utf-8') # Convert to bytes-like object\n",
    "\n",
    "        # Upload/update the document\n",
    "        folder.upload_file(csv_content, program_file)\n",
    "\n",
    "    # Get the file from SharePoint\n",
    "    byte_content = folder.get_file(program_file)\n",
    "\n",
    "    # Convert byte string to a regular string\n",
    "    content_str = byte_content.decode('utf-8')\n",
    "\n",
    "    # Convert string to a pandas DataFrame\n",
    "    dataframe = pd.read_csv(StringIO(content_str), delimiter='\\t')\n",
    "\n",
    "    return dataframe"
   ]
  },
  {
   "cell_type": "code",
   "execution_count": 13,
   "id": "0fb38af7-4151-4222-a2c1-5775ba005858",
   "metadata": {},
   "outputs": [
    {
     "name": "stdout",
     "output_type": "stream",
     "text": [
      "[Info] Connection built successfully. Server: CISSQL-live01, database: production. Created on 2024-01-11 at 10:23:08\n"
     ]
    },
    {
     "name": "stderr",
     "output_type": "stream",
     "text": [
      "10:23:21 - cmdstanpy - INFO - Chain [1] start processing\n",
      "10:23:21 - cmdstanpy - INFO - Chain [1] done processing\n"
     ]
    },
    {
     "data": {
      "text/html": [
       "<div>\n",
       "<style scoped>\n",
       "    .dataframe tbody tr th:only-of-type {\n",
       "        vertical-align: middle;\n",
       "    }\n",
       "\n",
       "    .dataframe tbody tr th {\n",
       "        vertical-align: top;\n",
       "    }\n",
       "\n",
       "    .dataframe thead th {\n",
       "        text-align: right;\n",
       "    }\n",
       "</style>\n",
       "<table border=\"1\" class=\"dataframe\">\n",
       "  <thead>\n",
       "    <tr style=\"text-align: right;\">\n",
       "      <th></th>\n",
       "      <th>program</th>\n",
       "      <th>probability</th>\n",
       "      <th>projected_regs</th>\n",
       "    </tr>\n",
       "  </thead>\n",
       "  <tbody>\n",
       "    <tr>\n",
       "      <th>0</th>\n",
       "      <td>BGEN</td>\n",
       "      <td>0.5</td>\n",
       "      <td>0</td>\n",
       "    </tr>\n",
       "  </tbody>\n",
       "</table>\n",
       "</div>"
      ],
      "text/plain": [
       "  program  probability  projected_regs\n",
       "0    BGEN          0.5               0"
      ]
     },
     "execution_count": 13,
     "metadata": {},
     "output_type": "execute_result"
    }
   ],
   "source": [
    "getting_target_probabilities_program(program = 'BGEN',\n",
    "                                    start_year = 2018, \n",
    "                                    end_year = 2024,\n",
    "                                    term = '2024F',\n",
    "                                    file_name_budget = 'budget_fall.txt')"
   ]
  },
  {
   "cell_type": "code",
   "execution_count": 127,
   "id": "35d530c9-ffd2-447f-9216-684bd55c27ff",
   "metadata": {},
   "outputs": [],
   "source": [
    "def getting_target_probabilities_program(program:str, \n",
    "                                         start_year:int, \n",
    "                                         end_year:int,\n",
    "                                         term: str, \n",
    "                                         file_name_budget: str,\n",
    "                                         cnxn: pyodbc.Connection = None):\n",
    "    \"\"\"\n",
    "    This function creates a forecasted value for target value and a probability to reach target for a given program\n",
    "    \n",
    "    Args: \n",
    "        program (str): Program of interest to retrieve data.\n",
    "        start_year (int): start year to start tracking historical data\n",
    "        end_year (int): start year to start tracking historical data\n",
    "        term (str): Term of interest\n",
    "        file_name_budget (str): file containing budget numbers of interest\n",
    "        cnxn (pyodbc.Connection): Connection to retrieve data from (set as None by default)\n",
    "        \n",
    "    Returns: \n",
    "        Dataframe (pd.DataFrame) with program and probability of reaching target value\n",
    "    \n",
    "    Example Usage: \n",
    "        getting_target_probabilities_program(program = 'BGEN', term = '2023F')\n",
    "    \n",
    "\n",
    "    \"\"\"\n",
    "    # Importing Sharepoint credentials\n",
    "    sharepoint_user, sharepoint_password =  python_utils.load_credentials(sharepoint = True)\n",
    "\n",
    "    # Importing budget data (sharepoint)\n",
    "    target  = custom_sharepoint.sharepoint_download(sharepoint_base_url = 'https://mylambton.sharepoint.com/sites/EnrolmentDashboard/',\n",
    "                                                 local_folder = 'budgets', \n",
    "                                                 file_name = file_name_budget, \n",
    "                                                 col2_name = 'target')\n",
    "    \n",
    "    # If no connection is provided, create one\n",
    "    if cnxn is None: \n",
    "        cnxn = python_utils.get_connection()\n",
    "\n",
    "    # Getting programs historical data\n",
    "    dataframe = program_full_data(program = program, \n",
    "                                  start_year = start_year, \n",
    "                                  end_year = end_year,\n",
    "                                  term = term,\n",
    "                                  cnxn = cnxn,\n",
    "                                  folder_name = 'registrations')\n",
    "    # apps \n",
    "    program_full_data(program = program, \n",
    "                                  start_year = start_year, \n",
    "                                  end_year = end_year,\n",
    "                                  term = term,\n",
    "                                  cnxn = cnxn,\n",
    "                                  folder_name= 'applications')\n",
    "    \n",
    "\t# confs\n",
    "    program_full_data(program = program, \n",
    "                                  start_year = start_year, \n",
    "                                  end_year = end_year,\n",
    "                                  term = term,\n",
    "                                  cnxn = cnxn,\n",
    "                                  folder_name= 'confirmations')\n",
    "    # Creating and fitting model \n",
    "    \n",
    "    model = Prophet() # Thanks facebook! \n",
    "    model.fit(dataframe)\n",
    "\n",
    "    # Counting number of days to reach end of cycle \n",
    "    periods = final_enrolment_day_be_term(term = term)\n",
    "\n",
    "\t# Forecasting to the data up to end of enrolment cycle (september 20)\n",
    "    future = model.make_future_dataframe(periods = periods)\n",
    "    forecast = model.predict(future)\n",
    "\n",
    "\t# Keeping forecasted values\n",
    "    mask = (forecast['ds'] > datetime.now().date().strftime(format = '%Y-%m-%d'))\n",
    "\n",
    "\t# Importing target values from target file\n",
    "    target_value = int(float(target.loc[target['Program']==program, 'target'].values[0]))\n",
    "\n",
    "\t# If current registrations is greater than target value, prob of reaching target is trivially 1\n",
    "    if dataframe.iloc[-1]['y'] >= target_value: \n",
    "        prob = 1\n",
    "    else:\n",
    "\t    # Creating probability based on distribution of forecasted values (assumption: normality)\n",
    "        prob =0.5 #1-norm.cdf(target_value, loc=forecast.loc[mask, 'yhat'].mean(), scale=forecast.loc[mask, 'yhat'].std())\n",
    "\n",
    "\t# Projected number of registrations\n",
    "    projected_regs = dataframe.iloc[-1]['y']\n",
    "\n",
    "\t# Building dataframe\n",
    "    dataframe = pd.DataFrame({'program':program, 'probability':prob, 'projected_regs':projected_regs }, index = [0])\n",
    "\t\t\n",
    "    return dataframe;"
   ]
  },
  {
   "cell_type": "code",
   "execution_count": 187,
   "id": "522ba742-e291-427c-8434-61598a4037d6",
   "metadata": {},
   "outputs": [
    {
     "name": "stdout",
     "output_type": "stream",
     "text": [
      "[Info] Connection built successfully. Server: CISSQL-live01, database: production. Created on 2024-01-12 at 10:48:22\n"
     ]
    }
   ],
   "source": [
    "program = 'BMAN'\n",
    "start_year = 2018 \n",
    "end_year = 2024\n",
    "term = '2024W'\n",
    "cnxn = python_utils.get_connection()"
   ]
  },
  {
   "cell_type": "code",
   "execution_count": 188,
   "id": "0c0e4f7f-96dd-4450-8203-bb3c21f81e5a",
   "metadata": {},
   "outputs": [],
   "source": [
    "df_test  = program_full_data(program = program, \n",
    "                                  start_year = start_year, \n",
    "                                  end_year = end_year,\n",
    "                                  term = term,\n",
    "                                  cnxn = cnxn,\n",
    "                                  folder_name = 'registrations')"
   ]
  },
  {
   "cell_type": "code",
   "execution_count": 56,
   "id": "76f27fab-b299-449f-b9fd-533f32877fc0",
   "metadata": {},
   "outputs": [],
   "source": [
    "# df_test"
   ]
  },
  {
   "cell_type": "code",
   "execution_count": 189,
   "id": "2b2ba85a-02ab-461b-9bdf-0a66e39b3144",
   "metadata": {},
   "outputs": [
    {
     "data": {
      "image/png": "[encoded data removed]",
      "text/plain": [
       "<Figure size 1500x500 with 1 Axes>"
      ]
     },
     "metadata": {},
     "output_type": "display_data"
    }
   ],
   "source": [
    "import pandas as pd\n",
    "import matplotlib.pyplot as plt\n",
    "\n",
    "# Assuming 'df' is your DataFrame and it has been loaded properly with 'ds' as datetime and 'y' as values\n",
    "\n",
    "# Make sure 'ds' is of datetime type for proper plotting\n",
    "df_test['ds'] = pd.to_datetime(df_test['ds'])\n",
    "\n",
    "# Plotting the time series data\n",
    "plt.figure(figsize=(15, 5)) # Set the figure size as desired\n",
    "plt.plot(df_test['ds'], df_test['y'], marker='o', linestyle='-') # marker and linestyle are optional\n",
    "plt.title('Time Series Data')\n",
    "plt.xlabel('Date')\n",
    "plt.ylabel('Value')\n",
    "plt.grid(True) # Show grid\n",
    "plt.tight_layout() # Adjust the padding between and around subplots\n",
    "plt.show()\n"
   ]
  },
  {
   "cell_type": "code",
   "execution_count": 190,
   "id": "a09ef680-6bed-432d-8789-e3f0708604f0",
   "metadata": {},
   "outputs": [
    {
     "name": "stderr",
     "output_type": "stream",
     "text": [
      "10:48:35 - cmdstanpy - INFO - Chain [1] start processing\n",
      "10:48:36 - cmdstanpy - INFO - Chain [1] done processing\n"
     ]
    },
    {
     "data": {
      "text/plain": [
       "<prophet.forecaster.Prophet at 0x27a4c2800a0>"
      ]
     },
     "execution_count": 190,
     "metadata": {},
     "output_type": "execute_result"
    }
   ],
   "source": [
    "model = Prophet() # Thanks facebook! \n",
    "model.fit(df_test)\n",
    "\n"
   ]
  },
  {
   "cell_type": "code",
   "execution_count": 191,
   "id": "2c93735d-f7c6-4239-aea6-90c167b797eb",
   "metadata": {},
   "outputs": [],
   "source": [
    "# Counting number of days to reach end of cycle \n",
    "periods = final_enrolment_day_be_term(term = term)+14"
   ]
  },
  {
   "cell_type": "code",
   "execution_count": 192,
   "id": "d24f6e2d-bb8d-4a0b-bcdb-806243b8f1f0",
   "metadata": {},
   "outputs": [],
   "source": [
    "future = model.make_future_dataframe(periods = periods)\n",
    "forecast = model.predict(future)"
   ]
  },
  {
   "cell_type": "code",
   "execution_count": 193,
   "id": "dd2ff91a-c9d2-4646-9118-6af3a403f925",
   "metadata": {},
   "outputs": [],
   "source": [
    "target  = custom_sharepoint.sharepoint_download(sharepoint_base_url = 'https://mylambton.sharepoint.com/sites/EnrolmentDashboard/',\n",
    "                                                 local_folder = 'budgets', \n",
    "                                                 file_name = 'budget_winter.txt', \n",
    "                                                 col2_name = 'target')"
   ]
  },
  {
   "cell_type": "code",
   "execution_count": 194,
   "id": "43d442bb-b021-46ef-a6e9-63f8c75155f9",
   "metadata": {},
   "outputs": [],
   "source": [
    "# Importing target values from target file\n",
    "target_value = int(float(target.loc[target['Program']==program, 'target'].values[0]))"
   ]
  },
  {
   "cell_type": "code",
   "execution_count": 195,
   "id": "8828a1a4-517e-4994-a1bd-452ea7e9e4cd",
   "metadata": {},
   "outputs": [
    {
     "data": {
      "text/plain": [
       "75"
      ]
     },
     "execution_count": 195,
     "metadata": {},
     "output_type": "execute_result"
    }
   ],
   "source": [
    "target_value"
   ]
  },
  {
   "cell_type": "code",
   "execution_count": 196,
   "id": "ad874d8d-0263-45d4-80df-d92a7360a472",
   "metadata": {},
   "outputs": [],
   "source": [
    "today = datetime.now().date()\n",
    "if periods < 30: \n",
    "    two_months_ago = today - timedelta(days=60)\n",
    "    mask = (forecast['ds'] > two_months_ago.strftime(format = '%Y-%m-%d'))\n",
    "else:\n",
    "    mask = (forecast['ds'] > today.strftime(format = '%Y-%m-%d'))"
   ]
  },
  {
   "cell_type": "code",
   "execution_count": 201,
   "id": "99cc2f37-3c44-491d-8f27-5b8de81de0c6",
   "metadata": {},
   "outputs": [
    {
     "data": {
      "text/plain": [
       "32.500665594313205"
      ]
     },
     "execution_count": 201,
     "metadata": {},
     "output_type": "execute_result"
    }
   ],
   "source": [
    "forecast.loc[mask, 'yhat'].mean()"
   ]
  },
  {
   "cell_type": "code",
   "execution_count": 165,
   "id": "dda21551-f47d-481a-b6cc-67d85038b99e",
   "metadata": {},
   "outputs": [],
   "source": [
    "# forecast"
   ]
  },
  {
   "cell_type": "code",
   "execution_count": 163,
   "id": "4589efcc-4c7f-4202-81a2-e4c322a1d827",
   "metadata": {},
   "outputs": [],
   "source": [
    "# df_test"
   ]
  },
  {
   "cell_type": "code",
   "execution_count": 179,
   "id": "1576beaa-3656-4fe1-86d7-1e915801f132",
   "metadata": {},
   "outputs": [
    {
     "data": {
      "text/plain": [
       "65"
      ]
     },
     "execution_count": 179,
     "metadata": {},
     "output_type": "execute_result"
    }
   ],
   "source": [
    "df_test.iloc[-1]['y']"
   ]
  },
  {
   "cell_type": "code",
   "execution_count": 180,
   "id": "1233bfa6-f804-4e33-850d-a22f5991dc3a",
   "metadata": {},
   "outputs": [
    {
     "data": {
      "text/plain": [
       "75"
      ]
     },
     "execution_count": 180,
     "metadata": {},
     "output_type": "execute_result"
    }
   ],
   "source": [
    "target_value"
   ]
  },
  {
   "cell_type": "code",
   "execution_count": 181,
   "id": "95e14347-649d-43a4-9143-ebcdb67b85b1",
   "metadata": {},
   "outputs": [],
   "source": [
    "if df_test.iloc[-1]['y'] >= target_value:\n",
    "    prob = 1\n",
    "else:\n",
    "\t    # Creating probability based on distribution of forecasted values (assumption: normality)\n",
    "        # prob =0.5 \n",
    "    prob = 1-norm.cdf(target_value, loc=forecast.loc[mask, 'yhat'].mean(), scale=forecast.loc[mask, 'yhat'].std())"
   ]
  },
  {
   "cell_type": "code",
   "execution_count": 198,
   "id": "dce8672f-080f-4594-adc5-f75907f04823",
   "metadata": {},
   "outputs": [
    {
     "data": {
      "text/plain": [
       "0.0017199615261273005"
      ]
     },
     "execution_count": 198,
     "metadata": {},
     "output_type": "execute_result"
    }
   ],
   "source": [
    "prob"
   ]
  },
  {
   "cell_type": "code",
   "execution_count": 185,
   "id": "bebcc71e-53b6-44da-9969-5c2f09aaff9b",
   "metadata": {},
   "outputs": [],
   "source": [
    "# forecast\n",
    "baseline = int((int(forecast.loc[mask, 'yhat'].max())+int(forecast.loc[mask, 'yhat'].min()))/2)\n",
    "if baseline < df_test.iloc[-1]['y']: \n",
    "    projected_regs =  df_test.iloc[-1]['y']\n",
    "else: \n",
    "    projected_regs =  baseline"
   ]
  },
  {
   "cell_type": "code",
   "execution_count": 186,
   "id": "b21f166e-923f-4fce-9ab1-8d9a9d6a96f7",
   "metadata": {},
   "outputs": [
    {
     "data": {
      "text/plain": [
       "65"
      ]
     },
     "execution_count": 186,
     "metadata": {},
     "output_type": "execute_result"
    }
   ],
   "source": [
    "projected_regs"
   ]
  },
  {
   "cell_type": "code",
   "execution_count": 115,
   "id": "56aaee42-100e-40c0-ae73-002628024142",
   "metadata": {},
   "outputs": [
    {
     "data": {
      "text/plain": [
       "65"
      ]
     },
     "execution_count": 115,
     "metadata": {},
     "output_type": "execute_result"
    }
   ],
   "source": [
    "df_test.iloc[-1]['y']"
   ]
  },
  {
   "cell_type": "code",
   "execution_count": 148,
   "id": "26741fc0-6dec-4e0a-beba-4220717bd4eb",
   "metadata": {},
   "outputs": [
    {
     "data": {
      "text/plain": [
       "52"
      ]
     },
     "execution_count": 148,
     "metadata": {},
     "output_type": "execute_result"
    }
   ],
   "source": [
    "int(forecast.loc[mask, 'yhat'].max())"
   ]
  },
  {
   "cell_type": "code",
   "execution_count": 116,
   "id": "7a262317-afab-4808-b889-5995210fe53a",
   "metadata": {},
   "outputs": [
    {
     "data": {
      "text/plain": [
       "14"
      ]
     },
     "execution_count": 116,
     "metadata": {},
     "output_type": "execute_result"
    }
   ],
   "source": [
    "int((int(forecast.loc[mask, 'yhat'].max())+int(forecast.loc[mask, 'yhat'].min()))/2)"
   ]
  },
  {
   "cell_type": "code",
   "execution_count": 150,
   "id": "edf76d3f-bf9f-4b2a-b988-cba57508ed1c",
   "metadata": {},
   "outputs": [
    {
     "data": {
      "image/png": "[encoded data removed]",
      "text/plain": [
       "<Figure size 1000x600 with 1 Axes>"
      ]
     },
     "execution_count": 150,
     "metadata": {},
     "output_type": "execute_result"
    },
    {
     "data": {
      "image/png": "[encoded data removed]",
      "text/plain": [
       "<Figure size 1000x600 with 1 Axes>"
      ]
     },
     "metadata": {},
     "output_type": "display_data"
    }
   ],
   "source": [
    "model.plot(forecast)"
   ]
  },
  {
   "cell_type": "code",
   "execution_count": 97,
   "id": "35caa92f-3f4f-4b5f-9e3d-d52af7eaa3bf",
   "metadata": {},
   "outputs": [
    {
     "name": "stdout",
     "output_type": "stream",
     "text": [
      "[Info] Data Retrieved on 2024-01-11 at 14:28:30\n"
     ]
    }
   ],
   "source": [
    "total_registrations = python_utils.xstl_query_term_level_campus(term = '2024F', \n",
    "\t\t\t\t\t\t\t\t\t\t\t\t\t\t\t\t cnxn  = cnxn)"
   ]
  },
  {
   "cell_type": "code",
   "execution_count": 98,
   "id": "efb24fc1-e49c-4729-8ea5-edb7e45ab25e",
   "metadata": {},
   "outputs": [
    {
     "data": {
      "text/html": [
       "<div>\n",
       "<style scoped>\n",
       "    .dataframe tbody tr th:only-of-type {\n",
       "        vertical-align: middle;\n",
       "    }\n",
       "\n",
       "    .dataframe tbody tr th {\n",
       "        vertical-align: top;\n",
       "    }\n",
       "\n",
       "    .dataframe thead th {\n",
       "        text-align: right;\n",
       "    }\n",
       "</style>\n",
       "<table border=\"1\" class=\"dataframe\">\n",
       "  <thead>\n",
       "    <tr style=\"text-align: right;\">\n",
       "      <th></th>\n",
       "      <th>student_id</th>\n",
       "      <th>first_name</th>\n",
       "      <th>last_name</th>\n",
       "      <th>birth_date</th>\n",
       "      <th>term</th>\n",
       "      <th>gender</th>\n",
       "      <th>acad_level</th>\n",
       "      <th>imm_status</th>\n",
       "      <th>city</th>\n",
       "      <th>postal_code</th>\n",
       "      <th>location</th>\n",
       "      <th>program</th>\n",
       "      <th>AAL</th>\n",
       "      <th>current_load</th>\n",
       "      <th>tenth_day_load</th>\n",
       "      <th>curr_status</th>\n",
       "      <th>status_date</th>\n",
       "    </tr>\n",
       "  </thead>\n",
       "  <tbody>\n",
       "  </tbody>\n",
       "</table>\n",
       "</div>"
      ],
      "text/plain": [
       "Empty DataFrame\n",
       "Columns: [student_id, first_name, last_name, birth_date, term, gender, acad_level, imm_status, city, postal_code, location, program, AAL, current_load, tenth_day_load, curr_status, status_date]\n",
       "Index: []"
      ]
     },
     "execution_count": 98,
     "metadata": {},
     "output_type": "execute_result"
    }
   ],
   "source": [
    "total_registrations"
   ]
  },
  {
   "cell_type": "markdown",
   "id": "ef4e72c5-f0aa-47ca-97ac-85fd21a5fce2",
   "metadata": {},
   "source": [
    "## Including program names"
   ]
  },
  {
   "cell_type": "code",
   "execution_count": 237,
   "id": "67d9739f-ee8a-4c2d-9e35-347857f2725d",
   "metadata": {},
   "outputs": [],
   "source": [
    "def program_information(order: pd.DataFrame,\n",
    "                        cnxn = None):\n",
    "    \"\"\"\n",
    "    This functions creates a spreadsheet with all program names and codes\n",
    "\n",
    "    Args: \n",
    "        cnxn (None): connection.\n",
    "\n",
    "    Returns:   \n",
    "        pd.DataFrame with two columns. \n",
    "    \"\"\"\n",
    "\n",
    "    if cnxn is None: \n",
    "        cnxn = python_utils.get_connection()\n",
    "\n",
    "    query = \"\"\"\n",
    "    SELECT XPGM.XPGM_PROGRAM as program\n",
    "    \t,ACPG_TITLE as program_title\n",
    "    \t--,ACPG_ACAD_LEVEL AS program_level\n",
    "    \t--,ACPG_STATUS AS status\n",
    "    \t--,XPGM_MTCU_CODE AS mctu_Code\n",
    "    \t--,XPGM_APS_SEQ_NUM AS aps_seq\n",
    "    \t--,XPGM_BOARD_APPROVED AS board_appr\n",
    "    \t--,XPGM_COST_RECOVERY AS cost_recovery\n",
    "    \t--,XPGM_CIP AS cip\n",
    "    \t--,ACPG_LOCATIONS AS location\n",
    "    \t--,CCDS_ID + ' ' + CCD_DESC AS program_credentials\n",
    "    \t--,\n",
    "    \t-- Getting the WILL Program identifiers\n",
    "    \t--REPLACE(REPLACE(REPLACE((\n",
    "    \t--\t\t\t\tCAST((\n",
    "    \t--\t\t\t\t\t\tSELECT XPLS.XPGM_KPI_WORK_INTEGRATED AS X\n",
    "    \t--\t\t\t\t\t\tFROM XPROGRAM_LS AS XPLS\n",
    "    \t--\t\t\t\t\t\tWHERE XPLS.XPGM_PROGRAM = XPGM.XPGM_PROGRAM\n",
    "    \t--\t\t\t\t\t\tFOR XML PATH('')\n",
    "    \t--\t\t\t\t\t\t) AS VARCHAR(4000))\n",
    "    \t--\t\t\t\t), '</X><X>', ' / '), '<X>', ''), '</X>', '') AS experiential_learning\n",
    "    -- End WILL Selection\n",
    "    FROM XPROGRAM XPGM\n",
    "    LEFT JOIN PROGRAM_STATUS ON XPGM.XPGM_PROGRAM = ACAD_PROGRAMS_ID\n",
    "    LEFT JOIN ACAD_PROGRAMS ON ACAD_PROGRAMS.ACAD_PROGRAMS_ID = XPGM.XPGM_PROGRAM\n",
    "    LEFT JOIN ACAD_PROGRAMS_LS ON ACAD_PROGRAMS_LS.ACAD_PROGRAMS_ID = ACAD_PROGRAMS.ACAD_PROGRAMS_ID\n",
    "    LEFT JOIN CCDS ON ACPG_CCDS = CCDS_ID\n",
    "    WHERE PROGRAM_STATUS.POS = 1\n",
    "    \tAND XPGM.XPGM_PROGRAM NOT LIKE '%.%'\n",
    "        -- AND ACPG_STATUS = 'A' -- only keep active programs\n",
    "    \tAND ACAD_PROGRAMS_LS.POS = 1\n",
    "    \n",
    "    \"\"\"\n",
    "    dataframe = pd.read_sql(query, cnxn)\n",
    "    dataframe = dataframe[dataframe['program'].isin(list(order['Program'].unique()))]\n",
    "    return dataframe"
   ]
  },
  {
   "cell_type": "code",
   "execution_count": null,
   "id": "25063f6a-87b4-46d1-b218-1374a2f3ac35",
   "metadata": {},
   "outputs": [],
   "source": []
  },
  {
   "cell_type": "code",
   "execution_count": 238,
   "id": "25ff4e59-9a86-4922-9e58-60b77aec8c9a",
   "metadata": {},
   "outputs": [
    {
     "name": "stdout",
     "output_type": "stream",
     "text": [
      "[Info] Connection built successfully. Server: CISSQL-live01, database: production. Created on 2024-01-16 at 12:03:28\n"
     ]
    },
    {
     "data": {
      "text/html": [
       "<div>\n",
       "<style scoped>\n",
       "    .dataframe tbody tr th:only-of-type {\n",
       "        vertical-align: middle;\n",
       "    }\n",
       "\n",
       "    .dataframe tbody tr th {\n",
       "        vertical-align: top;\n",
       "    }\n",
       "\n",
       "    .dataframe thead th {\n",
       "        text-align: right;\n",
       "    }\n",
       "</style>\n",
       "<table border=\"1\" class=\"dataframe\">\n",
       "  <thead>\n",
       "    <tr style=\"text-align: right;\">\n",
       "      <th></th>\n",
       "      <th>program</th>\n",
       "      <th>program_title</th>\n",
       "    </tr>\n",
       "  </thead>\n",
       "  <tbody>\n",
       "    <tr>\n",
       "      <th>82</th>\n",
       "      <td>BCAS</td>\n",
       "      <td>Biomaterials and Chemical Laboratory Analysis ...</td>\n",
       "    </tr>\n",
       "    <tr>\n",
       "      <th>127</th>\n",
       "      <td>BMAN</td>\n",
       "      <td>Business Management</td>\n",
       "    </tr>\n",
       "    <tr>\n",
       "      <th>139</th>\n",
       "      <td>BMIB</td>\n",
       "      <td>Business Management - International Business</td>\n",
       "    </tr>\n",
       "    <tr>\n",
       "      <th>402</th>\n",
       "      <td>FSQS</td>\n",
       "      <td>Food Safety and Quality Assurance Management</td>\n",
       "    </tr>\n",
       "    <tr>\n",
       "      <th>424</th>\n",
       "      <td>GASX</td>\n",
       "      <td>General Arts and Science - One-Year</td>\n",
       "    </tr>\n",
       "    <tr>\n",
       "      <th>586</th>\n",
       "      <td>LIBI</td>\n",
       "      <td>Liberal Studies (indigenous Pathway)</td>\n",
       "    </tr>\n",
       "    <tr>\n",
       "      <th>587</th>\n",
       "      <td>LIBS</td>\n",
       "      <td>Liberal Studies</td>\n",
       "    </tr>\n",
       "    <tr>\n",
       "      <th>697</th>\n",
       "      <td>PARA</td>\n",
       "      <td>Paramedic</td>\n",
       "    </tr>\n",
       "    <tr>\n",
       "      <th>728</th>\n",
       "      <td>PHRM</td>\n",
       "      <td>Pharmacy Technician</td>\n",
       "    </tr>\n",
       "    <tr>\n",
       "      <th>751</th>\n",
       "      <td>PRAC</td>\n",
       "      <td>Practical Nursing</td>\n",
       "    </tr>\n",
       "  </tbody>\n",
       "</table>\n",
       "</div>"
      ],
      "text/plain": [
       "    program                                      program_title\n",
       "82     BCAS  Biomaterials and Chemical Laboratory Analysis ...\n",
       "127    BMAN                                Business Management\n",
       "139    BMIB       Business Management - International Business\n",
       "402    FSQS       Food Safety and Quality Assurance Management\n",
       "424    GASX                General Arts and Science - One-Year\n",
       "586    LIBI               Liberal Studies (indigenous Pathway)\n",
       "587    LIBS                                    Liberal Studies\n",
       "697    PARA                                          Paramedic\n",
       "728    PHRM                                Pharmacy Technician\n",
       "751    PRAC                                  Practical Nursing"
      ]
     },
     "execution_count": 238,
     "metadata": {},
     "output_type": "execute_result"
    }
   ],
   "source": [
    "program_information(order = order)"
   ]
  },
  {
   "cell_type": "code",
   "execution_count": null,
   "id": "4a5b5004-91f9-44c4-a15d-bf45b0d68c3b",
   "metadata": {},
   "outputs": [],
   "source": []
  },
  {
   "cell_type": "code",
   "execution_count": null,
   "id": "bc119261-f919-444c-b1a6-52478b541a77",
   "metadata": {},
   "outputs": [],
   "source": []
  },
  {
   "cell_type": "code",
   "execution_count": 339,
   "id": "6c8b6285-231b-45da-8e69-98e61ecfc673",
   "metadata": {},
   "outputs": [],
   "source": [
    "import math"
   ]
  },
  {
   "cell_type": "code",
   "execution_count": 270,
   "id": "7ebf9118-3ee0-4c45-b9f6-1c03c11951ac",
   "metadata": {},
   "outputs": [],
   "source": [
    "class Shape: \n",
    "    def area(self):\n",
    "        pass\n",
    "    def perimetro(self): \n",
    "        pass"
   ]
  },
  {
   "cell_type": "code",
   "execution_count": 285,
   "id": "b7cd9ab8-ae66-4460-9200-e7ddc8963615",
   "metadata": {},
   "outputs": [],
   "source": [
    "class Rectangulo(Shape):\n",
    "    def __init__(self, base: int, altura:int)-> None: \n",
    "        self.base = base\n",
    "        self.altura = altura\n",
    "\n",
    "    def area(self) -> int:\n",
    "        return self.base*self.altura\n",
    "\n",
    "    def perimetro(self) -> int:\n",
    "        return 2*self.base+2*self.altura\n",
    "        "
   ]
  },
  {
   "cell_type": "code",
   "execution_count": 304,
   "id": "ebdee020-6d9a-4724-b032-619da519b761",
   "metadata": {},
   "outputs": [],
   "source": [
    "class Cuadrado(Rectangulo): \n",
    "    def __init__(self,lado): \n",
    "        self.lado = lado\n",
    "        super().__init__(lado, lado)\n",
    "\n",
    "    def __str__(self): \n",
    "        return f'Hola, soy un cuadrado de lado {self.lado}'\n",
    "\n",
    "    def __repr__(self): \n",
    "        return f'Objeto del tipo Cuadrado'"
   ]
  },
  {
   "cell_type": "code",
   "execution_count": 368,
   "id": "9460c42e-6e8f-4989-b074-3291f086904e",
   "metadata": {},
   "outputs": [],
   "source": [
    "class Circulo(Shape): \n",
    "    def __init__(self, radio:int)-> None: \n",
    "        self._radio = radio\n",
    "    \n",
    "    # @staticmethod\n",
    "    def area(self): \n",
    "        return math.pi*self.radio**2\n",
    "        \n",
    "    @property\n",
    "    def radio(self): \n",
    "        return self._radio\n",
    "\n",
    "    @radio.setter\n",
    "    def nuevo_radio(self, radio2): \n",
    "        self._radio = radio2\n",
    "\n",
    "    "
   ]
  },
  {
   "cell_type": "code",
   "execution_count": 369,
   "id": "9fa49e47-9bfc-447f-be5b-628b56bc74d7",
   "metadata": {},
   "outputs": [
    {
     "ename": "TypeError",
     "evalue": "area() got an unexpected keyword argument 'radio'",
     "output_type": "error",
     "traceback": [
      "\u001b[1;31m---------------------------------------------------------------------------\u001b[0m",
      "\u001b[1;31mTypeError\u001b[0m                                 Traceback (most recent call last)",
      "Cell \u001b[1;32mIn[369], line 1\u001b[0m\n\u001b[1;32m----> 1\u001b[0m \u001b[43mCirculo\u001b[49m\u001b[38;5;241;43m.\u001b[39;49m\u001b[43marea\u001b[49m\u001b[43m(\u001b[49m\u001b[43mradio\u001b[49m\u001b[43m \u001b[49m\u001b[38;5;241;43m=\u001b[39;49m\u001b[43m \u001b[49m\u001b[38;5;241;43m2\u001b[39;49m\u001b[43m)\u001b[49m\n",
      "\u001b[1;31mTypeError\u001b[0m: area() got an unexpected keyword argument 'radio'"
     ]
    }
   ],
   "source": [
    "Circulo.area(radio = 2)"
   ]
  },
  {
   "cell_type": "code",
   "execution_count": 370,
   "id": "8aca6480-3571-4743-9f98-9fbe8acb31c4",
   "metadata": {},
   "outputs": [],
   "source": [
    "ejemplo_circulo = Circulo(radio = 4)"
   ]
  },
  {
   "cell_type": "code",
   "execution_count": null,
   "id": "0d47ee29-4a6b-4528-8f62-a87680934db1",
   "metadata": {},
   "outputs": [],
   "source": []
  },
  {
   "cell_type": "code",
   "execution_count": 372,
   "id": "52857517-3de2-4481-a33b-d4e04908360d",
   "metadata": {},
   "outputs": [],
   "source": [
    "ejemplo_circulo.nuevo_radio = 3"
   ]
  },
  {
   "cell_type": "code",
   "execution_count": 373,
   "id": "a618c4e3-41d8-4b36-9a95-cd28487e361d",
   "metadata": {},
   "outputs": [
    {
     "data": {
      "text/plain": [
       "28.274333882308138"
      ]
     },
     "execution_count": 373,
     "metadata": {},
     "output_type": "execute_result"
    }
   ],
   "source": [
    "ejemplo_circulo.area()"
   ]
  },
  {
   "cell_type": "code",
   "execution_count": 305,
   "id": "3120dbab-fcfd-4240-b29c-e53927d614e5",
   "metadata": {},
   "outputs": [],
   "source": [
    "ejemplo = Rectangulo(base = 3, altura = 5)"
   ]
  },
  {
   "cell_type": "code",
   "execution_count": 306,
   "id": "9b6f372c-b771-49d8-8fec-2b3bfbcc23ec",
   "metadata": {},
   "outputs": [
    {
     "data": {
      "text/plain": [
       "16"
      ]
     },
     "execution_count": 306,
     "metadata": {},
     "output_type": "execute_result"
    }
   ],
   "source": [
    "ejemplo.perimetro()"
   ]
  },
  {
   "cell_type": "code",
   "execution_count": 307,
   "id": "a6715552-7195-4e2e-bf5b-f2b85557c38a",
   "metadata": {},
   "outputs": [],
   "source": [
    "ejemplo_cuadrado = Cuadrado(lado = 6)"
   ]
  },
  {
   "cell_type": "code",
   "execution_count": 308,
   "id": "f3c5564b-cf14-4a12-9f9f-f7575e575de3",
   "metadata": {},
   "outputs": [
    {
     "data": {
      "text/plain": [
       "24"
      ]
     },
     "execution_count": 308,
     "metadata": {},
     "output_type": "execute_result"
    }
   ],
   "source": [
    "ejemplo_cuadrado.perimetro()"
   ]
  },
  {
   "cell_type": "code",
   "execution_count": 313,
   "id": "629bcc3a-adcc-4de4-b191-fd6b51ba14ab",
   "metadata": {},
   "outputs": [
    {
     "data": {
      "text/plain": [
       "Objeto del tipo Cuadrado"
      ]
     },
     "execution_count": 313,
     "metadata": {},
     "output_type": "execute_result"
    }
   ],
   "source": [
    "ejemplo_cuadrado"
   ]
  },
  {
   "cell_type": "code",
   "execution_count": 379,
   "id": "78a0fdd9-b98d-45ff-8f3e-10ef3dc6a64c",
   "metadata": {},
   "outputs": [],
   "source": [
    "import requests\n",
    "\n",
    "def get_users() == : \n",
    "    response = requests.get(\"https://jsonplaceholder.typicode.com/users\")\n",
    "    if response.status_code == 200:\n",
    "        return response\n",
    "    \n",
    "    raise requests.HTTPError"
   ]
  },
  {
   "cell_type": "code",
   "execution_count": 6,
   "id": "fccdb7d0-29ed-4ee4-8144-edef17d4c4d7",
   "metadata": {
    "scrolled": true
   },
   "outputs": [
    {
     "name": "stdout",
     "output_type": "stream",
     "text": [
      "[Info] Connection built successfully. Server: CISSQL-live01, database: production. Created on 2024-01-29 at 14:07:02\n"
     ]
    }
   ],
   "source": [
    "cnxn = python_utils.get_connection()"
   ]
  },
  {
   "cell_type": "code",
   "execution_count": 10,
   "id": "67ff8118-48b5-47c1-84dd-0b9e4db0da86",
   "metadata": {},
   "outputs": [],
   "source": [
    "dataframe = queries_as_of.ApplicationsQuery(term = '2024F', \n",
    "                                         number = '0', cnxn = cnxn )"
   ]
  },
  {
   "cell_type": "code",
   "execution_count": 34,
   "id": "ce8d2820-0a27-437e-b3d7-ed217ba07ea8",
   "metadata": {},
   "outputs": [
    {
     "data": {
      "text/html": [
       "<div>\n",
       "<style scoped>\n",
       "    .dataframe tbody tr th:only-of-type {\n",
       "        vertical-align: middle;\n",
       "    }\n",
       "\n",
       "    .dataframe tbody tr th {\n",
       "        vertical-align: top;\n",
       "    }\n",
       "\n",
       "    .dataframe thead th {\n",
       "        text-align: right;\n",
       "    }\n",
       "</style>\n",
       "<table border=\"1\" class=\"dataframe\">\n",
       "  <thead>\n",
       "    <tr style=\"text-align: right;\">\n",
       "      <th></th>\n",
       "      <th>Applicant_ID</th>\n",
       "      <th>Program</th>\n",
       "      <th>Level</th>\n",
       "      <th>status</th>\n",
       "    </tr>\n",
       "  </thead>\n",
       "  <tbody>\n",
       "    <tr>\n",
       "      <th>429</th>\n",
       "      <td>0790772</td>\n",
       "      <td>SRAM</td>\n",
       "      <td>01</td>\n",
       "      <td>CUC</td>\n",
       "    </tr>\n",
       "    <tr>\n",
       "      <th>575</th>\n",
       "      <td>0856863</td>\n",
       "      <td>SRAM</td>\n",
       "      <td>01</td>\n",
       "      <td>ACU</td>\n",
       "    </tr>\n",
       "    <tr>\n",
       "      <th>697</th>\n",
       "      <td>0875076</td>\n",
       "      <td>SRAM</td>\n",
       "      <td>01</td>\n",
       "      <td>ACU</td>\n",
       "    </tr>\n",
       "    <tr>\n",
       "      <th>748</th>\n",
       "      <td>0892480</td>\n",
       "      <td>SRAM</td>\n",
       "      <td>01</td>\n",
       "      <td>WAC</td>\n",
       "    </tr>\n",
       "    <tr>\n",
       "      <th>820</th>\n",
       "      <td>0901612</td>\n",
       "      <td>SRAM</td>\n",
       "      <td>01</td>\n",
       "      <td>ACU</td>\n",
       "    </tr>\n",
       "    <tr>\n",
       "      <th>...</th>\n",
       "      <td>...</td>\n",
       "      <td>...</td>\n",
       "      <td>...</td>\n",
       "      <td>...</td>\n",
       "    </tr>\n",
       "    <tr>\n",
       "      <th>4046</th>\n",
       "      <td>0952101</td>\n",
       "      <td>SRAM</td>\n",
       "      <td>01</td>\n",
       "      <td>ACC</td>\n",
       "    </tr>\n",
       "    <tr>\n",
       "      <th>4080</th>\n",
       "      <td>0952167</td>\n",
       "      <td>SRAM</td>\n",
       "      <td>01</td>\n",
       "      <td>ACU</td>\n",
       "    </tr>\n",
       "    <tr>\n",
       "      <th>4085</th>\n",
       "      <td>0952172</td>\n",
       "      <td>SRAM</td>\n",
       "      <td>01</td>\n",
       "      <td>ACC</td>\n",
       "    </tr>\n",
       "    <tr>\n",
       "      <th>4143</th>\n",
       "      <td>0952272</td>\n",
       "      <td>SRAM</td>\n",
       "      <td>01</td>\n",
       "      <td>ACC</td>\n",
       "    </tr>\n",
       "    <tr>\n",
       "      <th>4166</th>\n",
       "      <td>0952287</td>\n",
       "      <td>SRAM</td>\n",
       "      <td>01</td>\n",
       "      <td>ACU</td>\n",
       "    </tr>\n",
       "  </tbody>\n",
       "</table>\n",
       "<p>112 rows × 4 columns</p>\n",
       "</div>"
      ],
      "text/plain": [
       "     Applicant_ID Program Level status\n",
       "429       0790772    SRAM    01    CUC\n",
       "575       0856863    SRAM    01    ACU\n",
       "697       0875076    SRAM    01    ACU\n",
       "748       0892480    SRAM    01    WAC\n",
       "820       0901612    SRAM    01    ACU\n",
       "...           ...     ...   ...    ...\n",
       "4046      0952101    SRAM    01    ACC\n",
       "4080      0952167    SRAM    01    ACU\n",
       "4085      0952172    SRAM    01    ACC\n",
       "4143      0952272    SRAM    01    ACC\n",
       "4166      0952287    SRAM    01    ACU\n",
       "\n",
       "[112 rows x 4 columns]"
      ]
     },
     "execution_count": 34,
     "metadata": {},
     "output_type": "execute_result"
    }
   ],
   "source": [
    "dataframe[(dataframe['Program']== 'SRAM')]"
   ]
  },
  {
   "cell_type": "code",
   "execution_count": null,
   "id": "c7054ded-7559-4519-98d2-e4d8b4df9c1a",
   "metadata": {},
   "outputs": [],
   "source": []
  },
  {
   "cell_type": "code",
   "execution_count": null,
   "id": "13d593bb-d836-4eae-99c6-4721dff542d1",
   "metadata": {},
   "outputs": [],
   "source": []
  },
  {
   "cell_type": "code",
   "execution_count": 48,
   "id": "978850d2-2a18-48e3-9ffd-88efcfec47d8",
   "metadata": {},
   "outputs": [],
   "source": [
    "import requests\n",
    "import json"
   ]
  },
  {
   "cell_type": "code",
   "execution_count": 139,
   "id": "f4da50c8-5b91-4bf0-bbd5-0ada4f48e6e5",
   "metadata": {},
   "outputs": [],
   "source": [
    "def get_data(): \n",
    "    import requests\n",
    "    res = requests.get('https://randomuser.me/api/')\n",
    "    res = res.json()\n",
    "    res = res['results'][0] \n",
    "    return res\n",
    "\n",
    "def format_data(res): \n",
    "    data = {}\n",
    "    data['first_name'] = res['name']['first']\n",
    "    data['last_name'] = res['name']['last']\n",
    "    location = res['location']\n",
    "    data['address'] = f'{location[\"street\"][\"number\"]}, {location[\"street\"][\"name\"]}.{location[\"city\"]}, {location[\"state\"]}. {location[\"country\"]}'\n",
    "    data['postcode'] = location['postcode']\n",
    "    data['email'] = res['email']\n",
    "    data['username'] = res['login']['username']\n",
    "    data['dob'] = res['dob']['date']\n",
    "    data['registered_date'] = res['registered']['date']\n",
    "    data['phone'] = res['phone']\n",
    "    data['picture'] = res['picture']['medium']\n",
    "\n",
    "    return data"
   ]
  },
  {
   "cell_type": "code",
   "execution_count": 141,
   "id": "a16849d8-9fc3-4d09-a3e0-08c53d7cc8c1",
   "metadata": {},
   "outputs": [
    {
     "data": {
      "text/plain": [
       "{'first_name': 'Peggy',\n",
       " 'last_name': 'Meyer',\n",
       " 'address': '6892, Fairview St.Richmond, Maryland. United States',\n",
       " 'postcode': 22419,\n",
       " 'email': 'peggy.meyer@example.com',\n",
       " 'username': 'organicbutterfly794',\n",
       " 'dob': '1992-12-26T20:59:39.420Z',\n",
       " 'registered_date': '2011-08-20T13:24:06.075Z',\n",
       " 'phone': '(981) 263-8538',\n",
       " 'picture': 'https://randomuser.me/api/portraits/med/women/35.jpg'}"
      ]
     },
     "execution_count": 141,
     "metadata": {},
     "output_type": "execute_result"
    }
   ],
   "source": [
    "res =  get_data()\n",
    "format_data(res)"
   ]
  },
  {
   "cell_type": "code",
   "execution_count": null,
   "id": "6b2f7eb1-08ad-413e-a5ea-f767d741a118",
   "metadata": {},
   "outputs": [],
   "source": []
  },
  {
   "cell_type": "code",
   "execution_count": null,
   "id": "05f74588-dd42-4a97-8951-b333a841a39f",
   "metadata": {},
   "outputs": [],
   "source": []
  },
  {
   "cell_type": "code",
   "execution_count": 5,
   "id": "b6fb5395-74b5-4414-83ff-29fbe998d444",
   "metadata": {},
   "outputs": [
    {
     "name": "stdout",
     "output_type": "stream",
     "text": [
      "[Info] Connection built successfully. Server: CISSQL-live01, database: production. Created on 2024-02-14 at 09:11:23\n"
     ]
    }
   ],
   "source": [
    "cnxn = python_utils.get_connection()"
   ]
  },
  {
   "cell_type": "code",
   "execution_count": 42,
   "id": "cee27f7b-6f76-4942-b460-4ce3a25f316a",
   "metadata": {},
   "outputs": [],
   "source": [
    "    query = \"\"\" select XPGM.XPGM_PROGRAM as program_code\n",
    "            --,ACPG_TITLE as program_title\n",
    "            --,ACPG_ACAD_LEVEL as academic_level\n",
    "            --,ACPG_STATUS as status\n",
    "            ,XPGM_MTCU_CODE as mctu_code\n",
    "            --,XPGM_APS_SEQ_NUM as aps_seq\n",
    "            --,XPGM_BOARD_APPROVED as board_appro\n",
    "            --,XPGM_COST_RECOVERY as cost_recovery\n",
    "            --,XPGM_CIP as cip\n",
    "            --,ACPG_LOCATIONS as location\n",
    "            --,CCDS_ID + ' ' + CCD_DESC AS program_credential,\n",
    "            -- Getting the WILL Program identifiers\n",
    "                --REPLACE(REPLACE(REPLACE((CAST(\n",
    "                --    (SELECT XPLS.XPGM_KPI_WORK_INTEGRATED AS X \n",
    "                 --       FROM XPROGRAM_LS AS XPLS\n",
    "                   --         WHERE XPLS.XPGM_PROGRAM = XPGM.XPGM_PROGRAM\n",
    "                   --     FOR XML PATH('')\n",
    "                   -- )AS VARCHAR(4000))),'</X><X>', ' / '),'<X>', ''),'</X>','') AS WILL\n",
    "            -- End WILL Selection\n",
    "        from XPROGRAM XPGM left join PROGRAM_STATUS on XPGM.XPGM_PROGRAM = ACAD_PROGRAMS_ID \n",
    "                LEFT JOIN ACAD_PROGRAMS on ACAD_PROGRAMS.ACAD_PROGRAMS_ID = XPGM.XPGM_PROGRAM \n",
    "                LEFT JOIN ACAD_PROGRAMS_LS ON ACAD_PROGRAMS_LS.ACAD_PROGRAMS_ID = ACAD_PROGRAMS.ACAD_PROGRAMS_ID \n",
    "                LEFT JOIN CCDS ON ACPG_CCDS = CCDS_ID\n",
    "            where PROGRAM_STATUS.POS = 1 and XPGM.XPGM_PROGRAM not like '%.%' AND ACAD_PROGRAMS_LS.POS = 1\n",
    "        \"\"\" \n",
    "    df_programs = pd.read_sql(query, cnxn )\n",
    "    file_name = 'order_fall.txt' ## This is the most comprehensive list of programs out of the three intakes, useful for ocas net movement tab.\n",
    "    program_school_dict = global_params.program_school_dict(file_name = file_name)\n",
    "        \n",
    "    # # Keeping programs offered in current term with MCTU only\n",
    "    df_programs = df_programs[df_programs['program_code'].isin(list(program_school_dict.keys()))]\n",
    "    df_programs = df_programs[~df_programs['mctu_code'].isnull()]\n",
    "    df_programs['mctu_code'] = df_programs['mctu_code'].astype(int)\n",
    "    \n",
    "    # # Filling OCAS data with MCTU data\n",
    "    programs_dict = df_programs.set_index('mctu_code')['program_code'].to_dict()\n",
    "    \n",
    "    # Pulling school/program data\n",
    "    dataframe['mctu_code'] = dataframe['mtcu_code_and_title'].str.split('-').str[0]\n",
    "    dataframe['lambton_program'] = dataframe['mctu_code'].astype(int).map(programs_dict)\n",
    "    \n",
    "    return dataframe"
   ]
  },
  {
   "cell_type": "code",
   "execution_count": 44,
   "id": "1cd42fb4-16f3-4a52-9d68-4674acc5937f",
   "metadata": {},
   "outputs": [],
   "source": [
    " ## OCAS province comparison \n",
    "sharepoint_base_url = 'https://mylambton.sharepoint.com/sites/EnrolmentDashboard/'\n",
    "report_name_OCAS = 'province_report_fall.xlsx'\n",
    "dataset = OCAS_data.sharepoint_download_excel_OCAS( sharepoint_base_url = sharepoint_base_url,\n",
    "                                                            report_name = report_name_OCAS )\n",
    "\n",
    "dataset = OCAS_data.OCAS_enrolment_report_province(dataset = dataset)"
   ]
  },
  {
   "cell_type": "code",
   "execution_count": 45,
   "id": "517b43fd-809e-43d3-a05c-e5326d85936c",
   "metadata": {},
   "outputs": [],
   "source": []
  },
  {
   "cell_type": "code",
   "execution_count": null,
   "id": "a7a96eb5-83ae-43c9-9aa1-cdbeb404a2a8",
   "metadata": {},
   "outputs": [],
   "source": [
    "def OCAS_net_movement(dataframe:pd.DataFrame, \n",
    "                      terms: List[str], \n",
    "                      cnxn = None):\n",
    "    \"\"\"\n",
    "    This function gets the net movement throughout the provice of Ontario based on MCTU number and matching\n",
    "    it with those of the program offered by Lambton\n",
    "    \n",
    "    Args: \n",
    "        dataframe (pd.DataFrame): processed OCAS data (output of OCAS_data.OCAS_enrolment_report_province)\n",
    "        terms (List[str]): list of terms of interest (would take the last letter of last element, as proxy to intake)\n",
    "    \"\"\"\n",
    "    # if terms[-1][-1] == 'W':\n",
    "    #     dataframe.columns = [update_colname(col) for col in dataframe.columns]\n",
    "    # if terms[-1][-1] == 'S':\n",
    "    #     dataframe.columns = [update_colname(col) for col in dataframe.columns]\n",
    "    \n",
    "\n",
    "    query = \"\"\" select XPGM.XPGM_PROGRAM as program_code\n",
    "        --,ACPG_TITLE as program_title\n",
    "        --,ACPG_ACAD_LEVEL as academic_level\n",
    "        --,ACPG_STATUS as status\n",
    "        ,XPGM_MTCU_CODE as mctu_code\n",
    "        --,XPGM_APS_SEQ_NUM as aps_seq\n",
    "        --,XPGM_BOARD_APPROVED as board_appro\n",
    "        --,XPGM_COST_RECOVERY as cost_recovery\n",
    "        --,XPGM_CIP as cip\n",
    "        --,ACPG_LOCATIONS as location\n",
    "        --,CCDS_ID + ' ' + CCD_DESC AS program_credential,\n",
    "        -- Getting the WILL Program identifiers\n",
    "            --REPLACE(REPLACE(REPLACE((CAST(\n",
    "            --    (SELECT XPLS.XPGM_KPI_WORK_INTEGRATED AS X \n",
    "             --       FROM XPROGRAM_LS AS XPLS\n",
    "               --         WHERE XPLS.XPGM_PROGRAM = XPGM.XPGM_PROGRAM\n",
    "               --     FOR XML PATH('')\n",
    "               -- )AS VARCHAR(4000))),'</X><X>', ' / '),'<X>', ''),'</X>','') AS WILL\n",
    "        -- End WILL Selection\n",
    "    from XPROGRAM XPGM left join PROGRAM_STATUS on XPGM.XPGM_PROGRAM = ACAD_PROGRAMS_ID \n",
    "            LEFT JOIN ACAD_PROGRAMS on ACAD_PROGRAMS.ACAD_PROGRAMS_ID = XPGM.XPGM_PROGRAM \n",
    "            LEFT JOIN ACAD_PROGRAMS_LS ON ACAD_PROGRAMS_LS.ACAD_PROGRAMS_ID = ACAD_PROGRAMS.ACAD_PROGRAMS_ID \n",
    "            LEFT JOIN CCDS ON ACPG_CCDS = CCDS_ID\n",
    "        where PROGRAM_STATUS.POS = 1 and XPGM.XPGM_PROGRAM not like '%.%' AND ACAD_PROGRAMS_LS.POS = 1\n",
    "    \"\"\" \n",
    "    df_programs = pd.read_sql(query, cnxn )\n",
    "    \n",
    "    # Keeping those programs with MCTU only\n",
    "#     df_programs = df_programs[['XPGM_PROGRAM', 'MTCU_Code']]\n",
    "    df_programs = df_programs[~df_programs['mctu_code'].isnull()]\n",
    "#     df_programs.columns = ['program', 'mctu']\n",
    "    df_programs['mctu_code'] = df_programs['mctu_code'].astype(int)\n",
    "    \n",
    "    # Filling OCAS data with MCTU data\n",
    "    programs_dict = df_programs.set_index('mctu_code')['program_code'].to_dict()\n",
    "    dataframe['mctu_code'] = dataframe['mtcu_code_and_title'].str.split('-').str[0]\n",
    "    dataframe['lambton_program'] = dataframe['mctu_code'].astype(int).map(programs_dict)\n",
    "    \n",
    "    # Pulling school/program data\n",
    "    testing_dict = global_params.naming_files()\n",
    "    # file_name = [data['file_name_order'] for season, data in testing_dict.items() if data['terms'] == terms][0]\n",
    "    file_name = 'order_fall.txt' ## This is the most comprehensive list of programs out of the three intakes, useful for ocas net movement tab.\n",
    "    program_school_dict = global_params.program_school_d']ict(file_name = file_name)\n",
    "    dataframe['lambton_school'] = dataframe['lambton_program'].map(program_school_dict)\n",
    "    return dataframe"
   ]
  }
 ],
 "metadata": {
  "hide_input": false,
  "kernelspec": {
   "display_name": "Python 3 (ipykernel)",
   "language": "python",
   "name": "python3"
  },
  "language_info": {
   "codemirror_mode": {
    "name": "ipython",
    "version": 3
   },
   "file_extension": ".py",
   "mimetype": "text/x-python",
   "name": "python",
   "nbconvert_exporter": "python",
   "pygments_lexer": "ipython3",
   "version": "3.11.7"
  },
  "toc": {
   "base_numbering": 1,
   "nav_menu": {},
   "number_sections": true,
   "sideBar": true,
   "skip_h1_title": false,
   "title_cell": "Table of Contents",
   "title_sidebar": "Contents",
   "toc_cell": false,
   "toc_position": {},
   "toc_section_display": true,
   "toc_window_display": false
  },
  "varInspector": {
   "cols": {
    "lenName": 16,
    "lenType": 16,
    "lenVar": 40
   },
   "kernels_config": {
    "python": {
     "delete_cmd_postfix": "",
     "delete_cmd_prefix": "del ",
     "library": "var_list.py",
     "varRefreshCmd": "print(var_dic_list())"
    },
    "r": {
     "delete_cmd_postfix": ") ",
     "delete_cmd_prefix": "rm(",
     "library": "var_list.r",
     "varRefreshCmd": "cat(var_dic_list()) "
    }
   },
   "types_to_exclude": [
    "module",
    "function",
    "builtin_function_or_method",
    "instance",
    "_Feature"
   ],
   "window_display": false
  }
 },
 "nbformat": 4,
 "nbformat_minor": 5
}
